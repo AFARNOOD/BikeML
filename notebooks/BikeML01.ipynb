{
 "cells": [
  {
   "cell_type": "markdown",
   "id": "130ea912-f49c-4990-af36-d0ff610b344e",
   "metadata": {},
   "source": [
    "## Phase 2: Data Preparation"
   ]
  },
  {
   "cell_type": "code",
   "execution_count": 1,
   "id": "fc9d0199-8bc2-4fab-b2d8-73e1c366142b",
   "metadata": {},
   "outputs": [],
   "source": [
    "import pandas as pd\n",
    "import numpy as np"
   ]
  },
  {
   "cell_type": "code",
   "execution_count": 2,
   "id": "929f64b5-555a-42c6-8bb5-5305abd1c5e7",
   "metadata": {},
   "outputs": [],
   "source": [
    "# Define paths relative to the script or notebook\n",
    "weather_data_path = \"C:/Users/a_farnoo/Documents/GitHub/BikeML/data/weather_data_2021.csv\"\n",
    "bixi_data_path = \"C:/Users/a_farnoo/Documents/GitHub/BikeML/data/bixi_data_2021.csv\""
   ]
  },
  {
   "cell_type": "code",
   "execution_count": 3,
   "id": "5f87814b-672e-4a31-95df-3a517bf02450",
   "metadata": {},
   "outputs": [],
   "source": [
    "# Load the data\n",
    "weather_data = pd.read_csv(weather_data_path)\n",
    "bixi_data = pd.read_csv(bixi_data_path)"
   ]
  },
  {
   "cell_type": "code",
   "execution_count": 4,
   "id": "a1473b37-9653-4a52-a3fd-65c7f963a538",
   "metadata": {
    "scrolled": true
   },
   "outputs": [
    {
     "name": "stdout",
     "output_type": "stream",
     "text": [
      "   Longitude (x)  Latitude (y)     Station Name  Climate ID   Date/Time  Year  \\\n",
      "0         -73.74         45.47  MONTREAL INTL A     7025251  2021-01-01  2021   \n",
      "1         -73.74         45.47  MONTREAL INTL A     7025251  2021-01-02  2021   \n",
      "2         -73.74         45.47  MONTREAL INTL A     7025251  2021-01-03  2021   \n",
      "3         -73.74         45.47  MONTREAL INTL A     7025251  2021-01-04  2021   \n",
      "4         -73.74         45.47  MONTREAL INTL A     7025251  2021-01-05  2021   \n",
      "\n",
      "   Month  Day  Data Quality  Max Temp (°C)  ... Total Snow (cm)  \\\n",
      "0      1    1           NaN           -0.9  ...             1.0   \n",
      "1      1    2           NaN           -0.8  ...            11.4   \n",
      "2      1    3           NaN           -0.8  ...             0.0   \n",
      "3      1    4           NaN           -0.8  ...             0.6   \n",
      "4      1    5           NaN           -2.7  ...             0.0   \n",
      "\n",
      "   Total Snow Flag Total Precip (mm)  Total Precip Flag Snow on Grnd (cm)  \\\n",
      "0              NaN               1.0                NaN               4.0   \n",
      "1              NaN              11.6                NaN              10.0   \n",
      "2              NaN               0.0                NaN              11.0   \n",
      "3              NaN               0.6                NaN              11.0   \n",
      "4                T               0.0                  T              11.0   \n",
      "\n",
      "   Snow on Grnd Flag Dir of Max Gust (10s deg)  Dir of Max Gust Flag  \\\n",
      "0                NaN                       NaN                     M   \n",
      "1                NaN                      36.0                   NaN   \n",
      "2                NaN                       NaN                     M   \n",
      "3                NaN                       NaN                     M   \n",
      "4                NaN                       1.0                   NaN   \n",
      "\n",
      "  Spd of Max Gust (km/h)  Spd of Max Gust Flag  \n",
      "0                    NaN                     M  \n",
      "1                   41.0                   NaN  \n",
      "2                    NaN                     M  \n",
      "3                    NaN                     M  \n",
      "4                   32.0                   NaN  \n",
      "\n",
      "[5 rows x 31 columns]\n",
      "                start_date  emplacement_pk_start                 end_date  \\\n",
      "0  2021-06-29 17:46:28.653                    10  2021-06-29 19:33:25.700   \n",
      "1  2021-04-25 18:02:39.110                    10  2021-04-25 18:13:26.139   \n",
      "2  2021-08-08 18:50:31.633                    10  2021-08-08 18:58:57.585   \n",
      "3  2021-10-11 17:50:15.346                    10  2021-10-11 18:25:31.726   \n",
      "4  2021-09-10 15:51:58.050                    10  2021-09-10 16:21:01.403   \n",
      "\n",
      "   emplacement_pk_end  duration_sec  is_member  \n",
      "0                  10          6417          0  \n",
      "1                 188           647          0  \n",
      "2                 778           505          1  \n",
      "3                 504          2116          1  \n",
      "4                 780          1743          1  \n"
     ]
    }
   ],
   "source": [
    "# Display the first few rows\n",
    "print(weather_data.head())\n",
    "print(bixi_data.head())"
   ]
  },
  {
   "cell_type": "code",
   "execution_count": 5,
   "id": "9c857354-8f00-4865-a7a4-507e88216b98",
   "metadata": {
    "scrolled": true
   },
   "outputs": [
    {
     "name": "stdout",
     "output_type": "stream",
     "text": [
      "Weather Data Missing Values:\n",
      " Longitude (x)                  0\n",
      "Latitude (y)                   0\n",
      "Station Name                   0\n",
      "Climate ID                     0\n",
      "Date/Time                      0\n",
      "Year                           0\n",
      "Month                          0\n",
      "Day                            0\n",
      "Data Quality                 365\n",
      "Max Temp (°C)                  2\n",
      "Max Temp Flag                363\n",
      "Min Temp (°C)                  2\n",
      "Min Temp Flag                363\n",
      "Mean Temp (°C)                 2\n",
      "Mean Temp Flag               363\n",
      "Heat Deg Days (°C)             2\n",
      "Heat Deg Days Flag           363\n",
      "Cool Deg Days (°C)             2\n",
      "Cool Deg Days Flag           363\n",
      "Total Rain (mm)                0\n",
      "Total Rain Flag              341\n",
      "Total Snow (cm)                0\n",
      "Total Snow Flag              333\n",
      "Total Precip (mm)              0\n",
      "Total Precip Flag            314\n",
      "Snow on Grnd (cm)            251\n",
      "Snow on Grnd Flag            347\n",
      "Dir of Max Gust (10s deg)    106\n",
      "Dir of Max Gust Flag         268\n",
      "Spd of Max Gust (km/h)       106\n",
      "Spd of Max Gust Flag         259\n",
      "dtype: int64\n",
      "BIXI Data Missing Values:\n",
      " start_date              0\n",
      "emplacement_pk_start    0\n",
      "end_date                0\n",
      "emplacement_pk_end      0\n",
      "duration_sec            0\n",
      "is_member               0\n",
      "dtype: int64\n"
     ]
    }
   ],
   "source": [
    "print(\"Weather Data Missing Values:\\n\", weather_data.isnull().sum())\n",
    "print(\"BIXI Data Missing Values:\\n\", bixi_data.isnull().sum())"
   ]
  },
  {
   "cell_type": "code",
   "execution_count": 6,
   "id": "a43a7c90-290c-4f33-bcde-afd8f09ef8b3",
   "metadata": {
    "scrolled": true
   },
   "outputs": [
    {
     "name": "stdout",
     "output_type": "stream",
     "text": [
      "Weather Data Types:\n",
      " Longitude (x)                float64\n",
      "Latitude (y)                 float64\n",
      "Station Name                  object\n",
      "Climate ID                     int64\n",
      "Date/Time                     object\n",
      "Year                           int64\n",
      "Month                          int64\n",
      "Day                            int64\n",
      "Data Quality                 float64\n",
      "Max Temp (°C)                float64\n",
      "Max Temp Flag                 object\n",
      "Min Temp (°C)                float64\n",
      "Min Temp Flag                 object\n",
      "Mean Temp (°C)               float64\n",
      "Mean Temp Flag                object\n",
      "Heat Deg Days (°C)           float64\n",
      "Heat Deg Days Flag            object\n",
      "Cool Deg Days (°C)           float64\n",
      "Cool Deg Days Flag            object\n",
      "Total Rain (mm)              float64\n",
      "Total Rain Flag               object\n",
      "Total Snow (cm)              float64\n",
      "Total Snow Flag               object\n",
      "Total Precip (mm)            float64\n",
      "Total Precip Flag             object\n",
      "Snow on Grnd (cm)            float64\n",
      "Snow on Grnd Flag             object\n",
      "Dir of Max Gust (10s deg)    float64\n",
      "Dir of Max Gust Flag          object\n",
      "Spd of Max Gust (km/h)       float64\n",
      "Spd of Max Gust Flag          object\n",
      "dtype: object\n",
      "BIXI Data Types:\n",
      " start_date              object\n",
      "emplacement_pk_start     int64\n",
      "end_date                object\n",
      "emplacement_pk_end       int64\n",
      "duration_sec             int64\n",
      "is_member                int64\n",
      "dtype: object\n"
     ]
    }
   ],
   "source": [
    "print(\"Weather Data Types:\\n\", weather_data.dtypes)\n",
    "print(\"BIXI Data Types:\\n\", bixi_data.dtypes)"
   ]
  },
  {
   "cell_type": "code",
   "execution_count": 7,
   "id": "11b68990-5229-4147-b412-0c6e452b6546",
   "metadata": {
    "scrolled": true
   },
   "outputs": [
    {
     "name": "stdout",
     "output_type": "stream",
     "text": [
      "       Longitude (x)  Latitude (y)  Climate ID    Year       Month  \\\n",
      "count         365.00  3.650000e+02       365.0   365.0  365.000000   \n",
      "mean          -73.74  4.547000e+01   7025251.0  2021.0    6.526027   \n",
      "std             0.00  7.115181e-15         0.0     0.0    3.452584   \n",
      "min           -73.74  4.547000e+01   7025251.0  2021.0    1.000000   \n",
      "25%           -73.74  4.547000e+01   7025251.0  2021.0    4.000000   \n",
      "50%           -73.74  4.547000e+01   7025251.0  2021.0    7.000000   \n",
      "75%           -73.74  4.547000e+01   7025251.0  2021.0   10.000000   \n",
      "max           -73.74  4.547000e+01   7025251.0  2021.0   12.000000   \n",
      "\n",
      "              Day  Data Quality  Max Temp (°C)  Min Temp (°C)  Mean Temp (°C)  \\\n",
      "count  365.000000           0.0     363.000000     363.000000      363.000000   \n",
      "mean    15.720548           NaN      13.127273       4.042149        8.593664   \n",
      "std      8.808321           NaN      12.264939      11.388409       11.724482   \n",
      "min      1.000000           NaN     -14.200000     -22.700000      -17.300000   \n",
      "25%      8.000000           NaN       2.000000      -5.050000       -1.800000   \n",
      "50%     16.000000           NaN      14.900000       4.800000        9.700000   \n",
      "75%     23.000000           NaN      23.800000      13.850000       18.450000   \n",
      "max     31.000000           NaN      34.000000      24.000000       28.400000   \n",
      "\n",
      "       Heat Deg Days (°C)  Cool Deg Days (°C)  Total Rain (mm)  \\\n",
      "count          363.000000          363.000000       365.000000   \n",
      "mean            10.566391            1.160055         1.712055   \n",
      "std             10.346181            2.416009         4.953206   \n",
      "min              0.000000            0.000000         0.000000   \n",
      "25%              0.000000            0.000000         0.000000   \n",
      "50%              8.300000            0.000000         0.000000   \n",
      "75%             19.800000            0.450000         0.400000   \n",
      "max             35.300000           10.400000        38.000000   \n",
      "\n",
      "       Total Snow (cm)  Total Precip (mm)  Snow on Grnd (cm)  \\\n",
      "count       365.000000         365.000000         114.000000   \n",
      "mean          0.485479           2.223836          16.631579   \n",
      "std           2.189468           5.414115          14.970332   \n",
      "min           0.000000           0.000000           0.000000   \n",
      "25%           0.000000           0.000000           4.000000   \n",
      "50%           0.000000           0.000000           9.500000   \n",
      "75%           0.000000           1.200000          32.750000   \n",
      "max          23.000000          38.000000          42.000000   \n",
      "\n",
      "       Dir of Max Gust (10s deg)  Spd of Max Gust (km/h)  \n",
      "count                 259.000000              259.000000  \n",
      "mean                   20.455598               45.494208  \n",
      "std                     9.516253               11.743502  \n",
      "min                     1.000000               31.000000  \n",
      "25%                    15.000000               37.000000  \n",
      "50%                    24.000000               43.000000  \n",
      "75%                    27.000000               51.000000  \n",
      "max                    36.000000              105.000000  \n",
      "       emplacement_pk_start  emplacement_pk_end  duration_sec     is_member\n",
      "count          5.566351e+06        5.566351e+06  5.566351e+06  5.566351e+06\n",
      "mean           4.762045e+02        4.792886e+02  8.618013e+02  8.242231e-01\n",
      "std            2.639886e+02        2.646610e+02  1.810833e+03  3.806303e-01\n",
      "min            1.000000e+01        1.000000e+01  0.000000e+00  0.000000e+00\n",
      "25%            2.620000e+02        2.660000e+02  3.660000e+02  1.000000e+00\n",
      "50%            4.100000e+02        4.140000e+02  6.420000e+02  1.000000e+00\n",
      "75%            6.370000e+02        6.410000e+02  1.091000e+03  1.000000e+00\n",
      "max            1.140000e+03        1.140000e+03  1.565260e+06  1.000000e+00\n"
     ]
    }
   ],
   "source": [
    "print(weather_data.describe())\n",
    "print(bixi_data.describe())"
   ]
  },
  {
   "cell_type": "markdown",
   "id": "974a83b6-8c69-4512-9443-60b3d624d90c",
   "metadata": {},
   "source": [
    "### Step 3: Clean the Weather Data"
   ]
  },
  {
   "cell_type": "code",
   "execution_count": 8,
   "id": "6be7a02c-4d7f-4e32-8259-aae11bdcd81a",
   "metadata": {},
   "outputs": [],
   "source": [
    "weather_data = weather_data.drop(columns=['column_to_remove_1', 'column_to_remove_2'], errors='ignore')"
   ]
  },
  {
   "cell_type": "code",
   "execution_count": 9,
   "id": "217fc791-2743-4f2a-a661-8c8cb9fc735a",
   "metadata": {
    "scrolled": true
   },
   "outputs": [
    {
     "data": {
      "text/html": [
       "<div>\n",
       "<style scoped>\n",
       "    .dataframe tbody tr th:only-of-type {\n",
       "        vertical-align: middle;\n",
       "    }\n",
       "\n",
       "    .dataframe tbody tr th {\n",
       "        vertical-align: top;\n",
       "    }\n",
       "\n",
       "    .dataframe thead th {\n",
       "        text-align: right;\n",
       "    }\n",
       "</style>\n",
       "<table border=\"1\" class=\"dataframe\">\n",
       "  <thead>\n",
       "    <tr style=\"text-align: right;\">\n",
       "      <th></th>\n",
       "      <th>Longitude (x)</th>\n",
       "      <th>Latitude (y)</th>\n",
       "      <th>Station Name</th>\n",
       "      <th>Climate ID</th>\n",
       "      <th>Date/Time</th>\n",
       "      <th>Year</th>\n",
       "      <th>Month</th>\n",
       "      <th>Day</th>\n",
       "      <th>Data Quality</th>\n",
       "      <th>Max Temp (°C)</th>\n",
       "      <th>...</th>\n",
       "      <th>Total Snow (cm)</th>\n",
       "      <th>Total Snow Flag</th>\n",
       "      <th>Total Precip (mm)</th>\n",
       "      <th>Total Precip Flag</th>\n",
       "      <th>Snow on Grnd (cm)</th>\n",
       "      <th>Snow on Grnd Flag</th>\n",
       "      <th>Dir of Max Gust (10s deg)</th>\n",
       "      <th>Dir of Max Gust Flag</th>\n",
       "      <th>Spd of Max Gust (km/h)</th>\n",
       "      <th>Spd of Max Gust Flag</th>\n",
       "    </tr>\n",
       "  </thead>\n",
       "  <tbody>\n",
       "    <tr>\n",
       "      <th>0</th>\n",
       "      <td>-73.74</td>\n",
       "      <td>45.47</td>\n",
       "      <td>MONTREAL INTL A</td>\n",
       "      <td>7025251</td>\n",
       "      <td>2021-01-01</td>\n",
       "      <td>2021</td>\n",
       "      <td>1</td>\n",
       "      <td>1</td>\n",
       "      <td>NaN</td>\n",
       "      <td>-0.9</td>\n",
       "      <td>...</td>\n",
       "      <td>1.0</td>\n",
       "      <td>NaN</td>\n",
       "      <td>1.0</td>\n",
       "      <td>NaN</td>\n",
       "      <td>4.0</td>\n",
       "      <td>NaN</td>\n",
       "      <td>NaN</td>\n",
       "      <td>M</td>\n",
       "      <td>NaN</td>\n",
       "      <td>M</td>\n",
       "    </tr>\n",
       "    <tr>\n",
       "      <th>1</th>\n",
       "      <td>-73.74</td>\n",
       "      <td>45.47</td>\n",
       "      <td>MONTREAL INTL A</td>\n",
       "      <td>7025251</td>\n",
       "      <td>2021-01-02</td>\n",
       "      <td>2021</td>\n",
       "      <td>1</td>\n",
       "      <td>2</td>\n",
       "      <td>NaN</td>\n",
       "      <td>-0.8</td>\n",
       "      <td>...</td>\n",
       "      <td>11.4</td>\n",
       "      <td>NaN</td>\n",
       "      <td>11.6</td>\n",
       "      <td>NaN</td>\n",
       "      <td>10.0</td>\n",
       "      <td>NaN</td>\n",
       "      <td>36.0</td>\n",
       "      <td>NaN</td>\n",
       "      <td>41.0</td>\n",
       "      <td>NaN</td>\n",
       "    </tr>\n",
       "    <tr>\n",
       "      <th>2</th>\n",
       "      <td>-73.74</td>\n",
       "      <td>45.47</td>\n",
       "      <td>MONTREAL INTL A</td>\n",
       "      <td>7025251</td>\n",
       "      <td>2021-01-03</td>\n",
       "      <td>2021</td>\n",
       "      <td>1</td>\n",
       "      <td>3</td>\n",
       "      <td>NaN</td>\n",
       "      <td>-0.8</td>\n",
       "      <td>...</td>\n",
       "      <td>0.0</td>\n",
       "      <td>NaN</td>\n",
       "      <td>0.0</td>\n",
       "      <td>NaN</td>\n",
       "      <td>11.0</td>\n",
       "      <td>NaN</td>\n",
       "      <td>NaN</td>\n",
       "      <td>M</td>\n",
       "      <td>NaN</td>\n",
       "      <td>M</td>\n",
       "    </tr>\n",
       "    <tr>\n",
       "      <th>3</th>\n",
       "      <td>-73.74</td>\n",
       "      <td>45.47</td>\n",
       "      <td>MONTREAL INTL A</td>\n",
       "      <td>7025251</td>\n",
       "      <td>2021-01-04</td>\n",
       "      <td>2021</td>\n",
       "      <td>1</td>\n",
       "      <td>4</td>\n",
       "      <td>NaN</td>\n",
       "      <td>-0.8</td>\n",
       "      <td>...</td>\n",
       "      <td>0.6</td>\n",
       "      <td>NaN</td>\n",
       "      <td>0.6</td>\n",
       "      <td>NaN</td>\n",
       "      <td>11.0</td>\n",
       "      <td>NaN</td>\n",
       "      <td>NaN</td>\n",
       "      <td>M</td>\n",
       "      <td>NaN</td>\n",
       "      <td>M</td>\n",
       "    </tr>\n",
       "    <tr>\n",
       "      <th>4</th>\n",
       "      <td>-73.74</td>\n",
       "      <td>45.47</td>\n",
       "      <td>MONTREAL INTL A</td>\n",
       "      <td>7025251</td>\n",
       "      <td>2021-01-05</td>\n",
       "      <td>2021</td>\n",
       "      <td>1</td>\n",
       "      <td>5</td>\n",
       "      <td>NaN</td>\n",
       "      <td>-2.7</td>\n",
       "      <td>...</td>\n",
       "      <td>0.0</td>\n",
       "      <td>T</td>\n",
       "      <td>0.0</td>\n",
       "      <td>T</td>\n",
       "      <td>11.0</td>\n",
       "      <td>NaN</td>\n",
       "      <td>1.0</td>\n",
       "      <td>NaN</td>\n",
       "      <td>32.0</td>\n",
       "      <td>NaN</td>\n",
       "    </tr>\n",
       "    <tr>\n",
       "      <th>...</th>\n",
       "      <td>...</td>\n",
       "      <td>...</td>\n",
       "      <td>...</td>\n",
       "      <td>...</td>\n",
       "      <td>...</td>\n",
       "      <td>...</td>\n",
       "      <td>...</td>\n",
       "      <td>...</td>\n",
       "      <td>...</td>\n",
       "      <td>...</td>\n",
       "      <td>...</td>\n",
       "      <td>...</td>\n",
       "      <td>...</td>\n",
       "      <td>...</td>\n",
       "      <td>...</td>\n",
       "      <td>...</td>\n",
       "      <td>...</td>\n",
       "      <td>...</td>\n",
       "      <td>...</td>\n",
       "      <td>...</td>\n",
       "      <td>...</td>\n",
       "    </tr>\n",
       "    <tr>\n",
       "      <th>360</th>\n",
       "      <td>-73.74</td>\n",
       "      <td>45.47</td>\n",
       "      <td>MONTREAL INTL A</td>\n",
       "      <td>7025251</td>\n",
       "      <td>2021-12-27</td>\n",
       "      <td>2021</td>\n",
       "      <td>12</td>\n",
       "      <td>27</td>\n",
       "      <td>NaN</td>\n",
       "      <td>-3.5</td>\n",
       "      <td>...</td>\n",
       "      <td>0.0</td>\n",
       "      <td>T</td>\n",
       "      <td>0.0</td>\n",
       "      <td>T</td>\n",
       "      <td>4.0</td>\n",
       "      <td>NaN</td>\n",
       "      <td>5.0</td>\n",
       "      <td>NaN</td>\n",
       "      <td>40.0</td>\n",
       "      <td>NaN</td>\n",
       "    </tr>\n",
       "    <tr>\n",
       "      <th>361</th>\n",
       "      <td>-73.74</td>\n",
       "      <td>45.47</td>\n",
       "      <td>MONTREAL INTL A</td>\n",
       "      <td>7025251</td>\n",
       "      <td>2021-12-28</td>\n",
       "      <td>2021</td>\n",
       "      <td>12</td>\n",
       "      <td>28</td>\n",
       "      <td>NaN</td>\n",
       "      <td>-2.5</td>\n",
       "      <td>...</td>\n",
       "      <td>2.0</td>\n",
       "      <td>NaN</td>\n",
       "      <td>2.0</td>\n",
       "      <td>NaN</td>\n",
       "      <td>5.0</td>\n",
       "      <td>NaN</td>\n",
       "      <td>NaN</td>\n",
       "      <td>M</td>\n",
       "      <td>NaN</td>\n",
       "      <td>M</td>\n",
       "    </tr>\n",
       "    <tr>\n",
       "      <th>362</th>\n",
       "      <td>-73.74</td>\n",
       "      <td>45.47</td>\n",
       "      <td>MONTREAL INTL A</td>\n",
       "      <td>7025251</td>\n",
       "      <td>2021-12-29</td>\n",
       "      <td>2021</td>\n",
       "      <td>12</td>\n",
       "      <td>29</td>\n",
       "      <td>NaN</td>\n",
       "      <td>-2.9</td>\n",
       "      <td>...</td>\n",
       "      <td>0.0</td>\n",
       "      <td>NaN</td>\n",
       "      <td>0.0</td>\n",
       "      <td>NaN</td>\n",
       "      <td>5.0</td>\n",
       "      <td>NaN</td>\n",
       "      <td>NaN</td>\n",
       "      <td>M</td>\n",
       "      <td>NaN</td>\n",
       "      <td>M</td>\n",
       "    </tr>\n",
       "    <tr>\n",
       "      <th>363</th>\n",
       "      <td>-73.74</td>\n",
       "      <td>45.47</td>\n",
       "      <td>MONTREAL INTL A</td>\n",
       "      <td>7025251</td>\n",
       "      <td>2021-12-30</td>\n",
       "      <td>2021</td>\n",
       "      <td>12</td>\n",
       "      <td>30</td>\n",
       "      <td>NaN</td>\n",
       "      <td>-1.6</td>\n",
       "      <td>...</td>\n",
       "      <td>0.6</td>\n",
       "      <td>NaN</td>\n",
       "      <td>0.4</td>\n",
       "      <td>NaN</td>\n",
       "      <td>5.0</td>\n",
       "      <td>NaN</td>\n",
       "      <td>NaN</td>\n",
       "      <td>M</td>\n",
       "      <td>NaN</td>\n",
       "      <td>M</td>\n",
       "    </tr>\n",
       "    <tr>\n",
       "      <th>364</th>\n",
       "      <td>-73.74</td>\n",
       "      <td>45.47</td>\n",
       "      <td>MONTREAL INTL A</td>\n",
       "      <td>7025251</td>\n",
       "      <td>2021-12-31</td>\n",
       "      <td>2021</td>\n",
       "      <td>12</td>\n",
       "      <td>31</td>\n",
       "      <td>NaN</td>\n",
       "      <td>0.0</td>\n",
       "      <td>...</td>\n",
       "      <td>0.2</td>\n",
       "      <td>NaN</td>\n",
       "      <td>0.2</td>\n",
       "      <td>NaN</td>\n",
       "      <td>6.0</td>\n",
       "      <td>NaN</td>\n",
       "      <td>NaN</td>\n",
       "      <td>M</td>\n",
       "      <td>NaN</td>\n",
       "      <td>M</td>\n",
       "    </tr>\n",
       "  </tbody>\n",
       "</table>\n",
       "<p>365 rows × 31 columns</p>\n",
       "</div>"
      ],
      "text/plain": [
       "     Longitude (x)  Latitude (y)     Station Name  Climate ID   Date/Time  \\\n",
       "0           -73.74         45.47  MONTREAL INTL A     7025251  2021-01-01   \n",
       "1           -73.74         45.47  MONTREAL INTL A     7025251  2021-01-02   \n",
       "2           -73.74         45.47  MONTREAL INTL A     7025251  2021-01-03   \n",
       "3           -73.74         45.47  MONTREAL INTL A     7025251  2021-01-04   \n",
       "4           -73.74         45.47  MONTREAL INTL A     7025251  2021-01-05   \n",
       "..             ...           ...              ...         ...         ...   \n",
       "360         -73.74         45.47  MONTREAL INTL A     7025251  2021-12-27   \n",
       "361         -73.74         45.47  MONTREAL INTL A     7025251  2021-12-28   \n",
       "362         -73.74         45.47  MONTREAL INTL A     7025251  2021-12-29   \n",
       "363         -73.74         45.47  MONTREAL INTL A     7025251  2021-12-30   \n",
       "364         -73.74         45.47  MONTREAL INTL A     7025251  2021-12-31   \n",
       "\n",
       "     Year  Month  Day  Data Quality  Max Temp (°C)  ... Total Snow (cm)  \\\n",
       "0    2021      1    1           NaN           -0.9  ...             1.0   \n",
       "1    2021      1    2           NaN           -0.8  ...            11.4   \n",
       "2    2021      1    3           NaN           -0.8  ...             0.0   \n",
       "3    2021      1    4           NaN           -0.8  ...             0.6   \n",
       "4    2021      1    5           NaN           -2.7  ...             0.0   \n",
       "..    ...    ...  ...           ...            ...  ...             ...   \n",
       "360  2021     12   27           NaN           -3.5  ...             0.0   \n",
       "361  2021     12   28           NaN           -2.5  ...             2.0   \n",
       "362  2021     12   29           NaN           -2.9  ...             0.0   \n",
       "363  2021     12   30           NaN           -1.6  ...             0.6   \n",
       "364  2021     12   31           NaN            0.0  ...             0.2   \n",
       "\n",
       "     Total Snow Flag Total Precip (mm)  Total Precip Flag Snow on Grnd (cm)  \\\n",
       "0                NaN               1.0                NaN               4.0   \n",
       "1                NaN              11.6                NaN              10.0   \n",
       "2                NaN               0.0                NaN              11.0   \n",
       "3                NaN               0.6                NaN              11.0   \n",
       "4                  T               0.0                  T              11.0   \n",
       "..               ...               ...                ...               ...   \n",
       "360                T               0.0                  T               4.0   \n",
       "361              NaN               2.0                NaN               5.0   \n",
       "362              NaN               0.0                NaN               5.0   \n",
       "363              NaN               0.4                NaN               5.0   \n",
       "364              NaN               0.2                NaN               6.0   \n",
       "\n",
       "     Snow on Grnd Flag Dir of Max Gust (10s deg)  Dir of Max Gust Flag  \\\n",
       "0                  NaN                       NaN                     M   \n",
       "1                  NaN                      36.0                   NaN   \n",
       "2                  NaN                       NaN                     M   \n",
       "3                  NaN                       NaN                     M   \n",
       "4                  NaN                       1.0                   NaN   \n",
       "..                 ...                       ...                   ...   \n",
       "360                NaN                       5.0                   NaN   \n",
       "361                NaN                       NaN                     M   \n",
       "362                NaN                       NaN                     M   \n",
       "363                NaN                       NaN                     M   \n",
       "364                NaN                       NaN                     M   \n",
       "\n",
       "    Spd of Max Gust (km/h)  Spd of Max Gust Flag  \n",
       "0                      NaN                     M  \n",
       "1                     41.0                   NaN  \n",
       "2                      NaN                     M  \n",
       "3                      NaN                     M  \n",
       "4                     32.0                   NaN  \n",
       "..                     ...                   ...  \n",
       "360                   40.0                   NaN  \n",
       "361                    NaN                     M  \n",
       "362                    NaN                     M  \n",
       "363                    NaN                     M  \n",
       "364                    NaN                     M  \n",
       "\n",
       "[365 rows x 31 columns]"
      ]
     },
     "execution_count": 9,
     "metadata": {},
     "output_type": "execute_result"
    }
   ],
   "source": [
    "weather_data"
   ]
  },
  {
   "cell_type": "code",
   "execution_count": 10,
   "id": "4872042a-f3f5-4b82-a8f4-948d57bd9a78",
   "metadata": {},
   "outputs": [],
   "source": [
    "# List of columns to keep\n",
    "columns_to_keep = [\n",
    "    \"Date/Time\",          # Timestamp\n",
    "    \"Max Temp (°C)\",      # Maximum temperature\n",
    "    \"Min Temp (°C)\",      # Minimum temperature\n",
    "    \"Total Precip (mm)\",  # Total precipitation\n",
    "    \"Snow on Grnd (cm)\",  # Snow on ground\n",
    "    \"Spd of Max Gust (km/h)\",  # Speed of max wind gust\n",
    "    \"Longitude (x)\",      # Longitude (if spatial analysis is needed)\n",
    "    \"Latitude (y)\"        # Latitude (if spatial analysis is needed)\n",
    "]"
   ]
  },
  {
   "cell_type": "code",
   "execution_count": 14,
   "id": "49b6f230-75ec-4280-bdb2-2dd90bebbd18",
   "metadata": {},
   "outputs": [],
   "source": [
    "# Filter the dataset\n",
    "weather_data = weather_data[columns_to_keep]"
   ]
  },
  {
   "cell_type": "code",
   "execution_count": 15,
   "id": "d16a2a6e-db34-40d2-9e4a-87992ff9cb88",
   "metadata": {},
   "outputs": [
    {
     "ename": "NameError",
     "evalue": "name 'filtered_weather_data' is not defined",
     "output_type": "error",
     "traceback": [
      "\u001b[1;31m---------------------------------------------------------------------------\u001b[0m",
      "\u001b[1;31mNameError\u001b[0m                                 Traceback (most recent call last)",
      "Cell \u001b[1;32mIn[15], line 2\u001b[0m\n\u001b[0;32m      1\u001b[0m \u001b[38;5;66;03m# Display the resulting dataset\u001b[39;00m\n\u001b[1;32m----> 2\u001b[0m \u001b[38;5;28mprint\u001b[39m(\u001b[43mfiltered_weather_data\u001b[49m\u001b[38;5;241m.\u001b[39mhead())\n",
      "\u001b[1;31mNameError\u001b[0m: name 'filtered_weather_data' is not defined"
     ]
    }
   ],
   "source": [
    "# Display the resulting dataset\n",
    "print(filtered_weather_data.head())"
   ]
  },
  {
   "cell_type": "code",
   "execution_count": 16,
   "id": "fad99552-b8d5-4722-b7b8-9013318a10ac",
   "metadata": {},
   "outputs": [],
   "source": [
    "weather_data.ffill(inplace=True)"
   ]
  },
  {
   "cell_type": "code",
   "execution_count": 17,
   "id": "a78bafc0-8875-4028-b893-ed03fb7bf864",
   "metadata": {},
   "outputs": [],
   "source": [
    "weather_data.dropna(inplace=True)"
   ]
  },
  {
   "cell_type": "code",
   "execution_count": 18,
   "id": "00d3ab32-49e8-400f-8de8-ed4a16349371",
   "metadata": {
    "scrolled": true
   },
   "outputs": [
    {
     "data": {
      "text/html": [
       "<div>\n",
       "<style scoped>\n",
       "    .dataframe tbody tr th:only-of-type {\n",
       "        vertical-align: middle;\n",
       "    }\n",
       "\n",
       "    .dataframe tbody tr th {\n",
       "        vertical-align: top;\n",
       "    }\n",
       "\n",
       "    .dataframe thead th {\n",
       "        text-align: right;\n",
       "    }\n",
       "</style>\n",
       "<table border=\"1\" class=\"dataframe\">\n",
       "  <thead>\n",
       "    <tr style=\"text-align: right;\">\n",
       "      <th></th>\n",
       "      <th>Date/Time</th>\n",
       "      <th>Max Temp (°C)</th>\n",
       "      <th>Min Temp (°C)</th>\n",
       "      <th>Total Precip (mm)</th>\n",
       "      <th>Snow on Grnd (cm)</th>\n",
       "      <th>Spd of Max Gust (km/h)</th>\n",
       "      <th>Longitude (x)</th>\n",
       "      <th>Latitude (y)</th>\n",
       "    </tr>\n",
       "  </thead>\n",
       "  <tbody>\n",
       "    <tr>\n",
       "      <th>1</th>\n",
       "      <td>2021-01-02</td>\n",
       "      <td>-0.8</td>\n",
       "      <td>-5.0</td>\n",
       "      <td>11.6</td>\n",
       "      <td>10.0</td>\n",
       "      <td>41.0</td>\n",
       "      <td>-73.74</td>\n",
       "      <td>45.47</td>\n",
       "    </tr>\n",
       "    <tr>\n",
       "      <th>2</th>\n",
       "      <td>2021-01-03</td>\n",
       "      <td>-0.8</td>\n",
       "      <td>-3.9</td>\n",
       "      <td>0.0</td>\n",
       "      <td>11.0</td>\n",
       "      <td>41.0</td>\n",
       "      <td>-73.74</td>\n",
       "      <td>45.47</td>\n",
       "    </tr>\n",
       "    <tr>\n",
       "      <th>3</th>\n",
       "      <td>2021-01-04</td>\n",
       "      <td>-0.8</td>\n",
       "      <td>-4.0</td>\n",
       "      <td>0.6</td>\n",
       "      <td>11.0</td>\n",
       "      <td>41.0</td>\n",
       "      <td>-73.74</td>\n",
       "      <td>45.47</td>\n",
       "    </tr>\n",
       "    <tr>\n",
       "      <th>4</th>\n",
       "      <td>2021-01-05</td>\n",
       "      <td>-2.7</td>\n",
       "      <td>-3.7</td>\n",
       "      <td>0.0</td>\n",
       "      <td>11.0</td>\n",
       "      <td>32.0</td>\n",
       "      <td>-73.74</td>\n",
       "      <td>45.47</td>\n",
       "    </tr>\n",
       "    <tr>\n",
       "      <th>5</th>\n",
       "      <td>2021-01-06</td>\n",
       "      <td>-1.0</td>\n",
       "      <td>-7.3</td>\n",
       "      <td>0.0</td>\n",
       "      <td>11.0</td>\n",
       "      <td>32.0</td>\n",
       "      <td>-73.74</td>\n",
       "      <td>45.47</td>\n",
       "    </tr>\n",
       "    <tr>\n",
       "      <th>...</th>\n",
       "      <td>...</td>\n",
       "      <td>...</td>\n",
       "      <td>...</td>\n",
       "      <td>...</td>\n",
       "      <td>...</td>\n",
       "      <td>...</td>\n",
       "      <td>...</td>\n",
       "      <td>...</td>\n",
       "    </tr>\n",
       "    <tr>\n",
       "      <th>360</th>\n",
       "      <td>2021-12-27</td>\n",
       "      <td>-3.5</td>\n",
       "      <td>-10.4</td>\n",
       "      <td>0.0</td>\n",
       "      <td>4.0</td>\n",
       "      <td>40.0</td>\n",
       "      <td>-73.74</td>\n",
       "      <td>45.47</td>\n",
       "    </tr>\n",
       "    <tr>\n",
       "      <th>361</th>\n",
       "      <td>2021-12-28</td>\n",
       "      <td>-2.5</td>\n",
       "      <td>-9.1</td>\n",
       "      <td>2.0</td>\n",
       "      <td>5.0</td>\n",
       "      <td>40.0</td>\n",
       "      <td>-73.74</td>\n",
       "      <td>45.47</td>\n",
       "    </tr>\n",
       "    <tr>\n",
       "      <th>362</th>\n",
       "      <td>2021-12-29</td>\n",
       "      <td>-2.9</td>\n",
       "      <td>-7.5</td>\n",
       "      <td>0.0</td>\n",
       "      <td>5.0</td>\n",
       "      <td>40.0</td>\n",
       "      <td>-73.74</td>\n",
       "      <td>45.47</td>\n",
       "    </tr>\n",
       "    <tr>\n",
       "      <th>363</th>\n",
       "      <td>2021-12-30</td>\n",
       "      <td>-1.6</td>\n",
       "      <td>-6.7</td>\n",
       "      <td>0.4</td>\n",
       "      <td>5.0</td>\n",
       "      <td>40.0</td>\n",
       "      <td>-73.74</td>\n",
       "      <td>45.47</td>\n",
       "    </tr>\n",
       "    <tr>\n",
       "      <th>364</th>\n",
       "      <td>2021-12-31</td>\n",
       "      <td>0.0</td>\n",
       "      <td>-3.4</td>\n",
       "      <td>0.2</td>\n",
       "      <td>6.0</td>\n",
       "      <td>40.0</td>\n",
       "      <td>-73.74</td>\n",
       "      <td>45.47</td>\n",
       "    </tr>\n",
       "  </tbody>\n",
       "</table>\n",
       "<p>364 rows × 8 columns</p>\n",
       "</div>"
      ],
      "text/plain": [
       "      Date/Time  Max Temp (°C)  Min Temp (°C)  Total Precip (mm)  \\\n",
       "1    2021-01-02           -0.8           -5.0               11.6   \n",
       "2    2021-01-03           -0.8           -3.9                0.0   \n",
       "3    2021-01-04           -0.8           -4.0                0.6   \n",
       "4    2021-01-05           -2.7           -3.7                0.0   \n",
       "5    2021-01-06           -1.0           -7.3                0.0   \n",
       "..          ...            ...            ...                ...   \n",
       "360  2021-12-27           -3.5          -10.4                0.0   \n",
       "361  2021-12-28           -2.5           -9.1                2.0   \n",
       "362  2021-12-29           -2.9           -7.5                0.0   \n",
       "363  2021-12-30           -1.6           -6.7                0.4   \n",
       "364  2021-12-31            0.0           -3.4                0.2   \n",
       "\n",
       "     Snow on Grnd (cm)  Spd of Max Gust (km/h)  Longitude (x)  Latitude (y)  \n",
       "1                 10.0                    41.0         -73.74         45.47  \n",
       "2                 11.0                    41.0         -73.74         45.47  \n",
       "3                 11.0                    41.0         -73.74         45.47  \n",
       "4                 11.0                    32.0         -73.74         45.47  \n",
       "5                 11.0                    32.0         -73.74         45.47  \n",
       "..                 ...                     ...            ...           ...  \n",
       "360                4.0                    40.0         -73.74         45.47  \n",
       "361                5.0                    40.0         -73.74         45.47  \n",
       "362                5.0                    40.0         -73.74         45.47  \n",
       "363                5.0                    40.0         -73.74         45.47  \n",
       "364                6.0                    40.0         -73.74         45.47  \n",
       "\n",
       "[364 rows x 8 columns]"
      ]
     },
     "execution_count": 18,
     "metadata": {},
     "output_type": "execute_result"
    }
   ],
   "source": [
    "weather_data"
   ]
  },
  {
   "cell_type": "markdown",
   "id": "143e3f78-26d1-42f4-8d58-a43b2386d422",
   "metadata": {},
   "source": [
    "### Step 4: Clean the BIXI Data"
   ]
  },
  {
   "cell_type": "code",
   "execution_count": 19,
   "id": "5ef4ba2d-6c24-4196-a830-cdb6ca244c5d",
   "metadata": {},
   "outputs": [],
   "source": [
    "bixi_data = bixi_data[bixi_data['duration_sec'] > 0]"
   ]
  },
  {
   "cell_type": "code",
   "execution_count": 20,
   "id": "a76c020b-7ebc-4f19-95ef-31776e4505a6",
   "metadata": {},
   "outputs": [],
   "source": [
    "bixi_data['start_time'] = pd.to_datetime(bixi_data['start_date'])\n",
    "bixi_data['end_time'] = pd.to_datetime(bixi_data['end_date'])"
   ]
  },
  {
   "cell_type": "code",
   "execution_count": 21,
   "id": "f8d3b45e-3299-4daf-9183-70a93737ea08",
   "metadata": {},
   "outputs": [],
   "source": [
    "bixi_data['date'] = bixi_data['start_time'].dt.date"
   ]
  },
  {
   "cell_type": "code",
   "execution_count": 22,
   "id": "fb7c2262-38b6-4002-8fda-2a9ef9f94db9",
   "metadata": {},
   "outputs": [],
   "source": [
    "bixi_data = bixi_data.dropna(subset=['emplacement_pk_start', 'emplacement_pk_end'])"
   ]
  },
  {
   "cell_type": "code",
   "execution_count": 23,
   "id": "76cde198-7bc6-4d18-8317-a22803094586",
   "metadata": {
    "scrolled": true
   },
   "outputs": [
    {
     "data": {
      "text/html": [
       "<div>\n",
       "<style scoped>\n",
       "    .dataframe tbody tr th:only-of-type {\n",
       "        vertical-align: middle;\n",
       "    }\n",
       "\n",
       "    .dataframe tbody tr th {\n",
       "        vertical-align: top;\n",
       "    }\n",
       "\n",
       "    .dataframe thead th {\n",
       "        text-align: right;\n",
       "    }\n",
       "</style>\n",
       "<table border=\"1\" class=\"dataframe\">\n",
       "  <thead>\n",
       "    <tr style=\"text-align: right;\">\n",
       "      <th></th>\n",
       "      <th>start_date</th>\n",
       "      <th>emplacement_pk_start</th>\n",
       "      <th>end_date</th>\n",
       "      <th>emplacement_pk_end</th>\n",
       "      <th>duration_sec</th>\n",
       "      <th>is_member</th>\n",
       "      <th>start_time</th>\n",
       "      <th>end_time</th>\n",
       "      <th>date</th>\n",
       "    </tr>\n",
       "  </thead>\n",
       "  <tbody>\n",
       "    <tr>\n",
       "      <th>0</th>\n",
       "      <td>2021-06-29 17:46:28.653</td>\n",
       "      <td>10</td>\n",
       "      <td>2021-06-29 19:33:25.700</td>\n",
       "      <td>10</td>\n",
       "      <td>6417</td>\n",
       "      <td>0</td>\n",
       "      <td>2021-06-29 17:46:28.653</td>\n",
       "      <td>2021-06-29 19:33:25.700</td>\n",
       "      <td>2021-06-29</td>\n",
       "    </tr>\n",
       "    <tr>\n",
       "      <th>1</th>\n",
       "      <td>2021-04-25 18:02:39.110</td>\n",
       "      <td>10</td>\n",
       "      <td>2021-04-25 18:13:26.139</td>\n",
       "      <td>188</td>\n",
       "      <td>647</td>\n",
       "      <td>0</td>\n",
       "      <td>2021-04-25 18:02:39.110</td>\n",
       "      <td>2021-04-25 18:13:26.139</td>\n",
       "      <td>2021-04-25</td>\n",
       "    </tr>\n",
       "    <tr>\n",
       "      <th>2</th>\n",
       "      <td>2021-08-08 18:50:31.633</td>\n",
       "      <td>10</td>\n",
       "      <td>2021-08-08 18:58:57.585</td>\n",
       "      <td>778</td>\n",
       "      <td>505</td>\n",
       "      <td>1</td>\n",
       "      <td>2021-08-08 18:50:31.633</td>\n",
       "      <td>2021-08-08 18:58:57.585</td>\n",
       "      <td>2021-08-08</td>\n",
       "    </tr>\n",
       "    <tr>\n",
       "      <th>3</th>\n",
       "      <td>2021-10-11 17:50:15.346</td>\n",
       "      <td>10</td>\n",
       "      <td>2021-10-11 18:25:31.726</td>\n",
       "      <td>504</td>\n",
       "      <td>2116</td>\n",
       "      <td>1</td>\n",
       "      <td>2021-10-11 17:50:15.346</td>\n",
       "      <td>2021-10-11 18:25:31.726</td>\n",
       "      <td>2021-10-11</td>\n",
       "    </tr>\n",
       "    <tr>\n",
       "      <th>4</th>\n",
       "      <td>2021-09-10 15:51:58.050</td>\n",
       "      <td>10</td>\n",
       "      <td>2021-09-10 16:21:01.403</td>\n",
       "      <td>780</td>\n",
       "      <td>1743</td>\n",
       "      <td>1</td>\n",
       "      <td>2021-09-10 15:51:58.050</td>\n",
       "      <td>2021-09-10 16:21:01.403</td>\n",
       "      <td>2021-09-10</td>\n",
       "    </tr>\n",
       "    <tr>\n",
       "      <th>...</th>\n",
       "      <td>...</td>\n",
       "      <td>...</td>\n",
       "      <td>...</td>\n",
       "      <td>...</td>\n",
       "      <td>...</td>\n",
       "      <td>...</td>\n",
       "      <td>...</td>\n",
       "      <td>...</td>\n",
       "      <td>...</td>\n",
       "    </tr>\n",
       "    <tr>\n",
       "      <th>5566346</th>\n",
       "      <td>2021-11-10 18:17:49.654</td>\n",
       "      <td>1140</td>\n",
       "      <td>2021-11-10 18:24:40.643</td>\n",
       "      <td>928</td>\n",
       "      <td>410</td>\n",
       "      <td>1</td>\n",
       "      <td>2021-11-10 18:17:49.654</td>\n",
       "      <td>2021-11-10 18:24:40.643</td>\n",
       "      <td>2021-11-10</td>\n",
       "    </tr>\n",
       "    <tr>\n",
       "      <th>5566347</th>\n",
       "      <td>2021-11-11 14:55:04.039</td>\n",
       "      <td>1140</td>\n",
       "      <td>2021-11-11 14:59:41.446</td>\n",
       "      <td>1140</td>\n",
       "      <td>277</td>\n",
       "      <td>0</td>\n",
       "      <td>2021-11-11 14:55:04.039</td>\n",
       "      <td>2021-11-11 14:59:41.446</td>\n",
       "      <td>2021-11-11</td>\n",
       "    </tr>\n",
       "    <tr>\n",
       "      <th>5566348</th>\n",
       "      <td>2021-11-12 14:50:15.504</td>\n",
       "      <td>1140</td>\n",
       "      <td>2021-11-12 15:05:37.379</td>\n",
       "      <td>1140</td>\n",
       "      <td>921</td>\n",
       "      <td>1</td>\n",
       "      <td>2021-11-12 14:50:15.504</td>\n",
       "      <td>2021-11-12 15:05:37.379</td>\n",
       "      <td>2021-11-12</td>\n",
       "    </tr>\n",
       "    <tr>\n",
       "      <th>5566349</th>\n",
       "      <td>2021-11-13 07:00:16.679</td>\n",
       "      <td>1140</td>\n",
       "      <td>2021-11-13 07:15:10.760</td>\n",
       "      <td>945</td>\n",
       "      <td>894</td>\n",
       "      <td>1</td>\n",
       "      <td>2021-11-13 07:00:16.679</td>\n",
       "      <td>2021-11-13 07:15:10.760</td>\n",
       "      <td>2021-11-13</td>\n",
       "    </tr>\n",
       "    <tr>\n",
       "      <th>5566350</th>\n",
       "      <td>2021-11-12 06:52:55.865</td>\n",
       "      <td>1140</td>\n",
       "      <td>2021-11-12 07:10:43.917</td>\n",
       "      <td>945</td>\n",
       "      <td>1068</td>\n",
       "      <td>1</td>\n",
       "      <td>2021-11-12 06:52:55.865</td>\n",
       "      <td>2021-11-12 07:10:43.917</td>\n",
       "      <td>2021-11-12</td>\n",
       "    </tr>\n",
       "  </tbody>\n",
       "</table>\n",
       "<p>5566331 rows × 9 columns</p>\n",
       "</div>"
      ],
      "text/plain": [
       "                      start_date  emplacement_pk_start  \\\n",
       "0        2021-06-29 17:46:28.653                    10   \n",
       "1        2021-04-25 18:02:39.110                    10   \n",
       "2        2021-08-08 18:50:31.633                    10   \n",
       "3        2021-10-11 17:50:15.346                    10   \n",
       "4        2021-09-10 15:51:58.050                    10   \n",
       "...                          ...                   ...   \n",
       "5566346  2021-11-10 18:17:49.654                  1140   \n",
       "5566347  2021-11-11 14:55:04.039                  1140   \n",
       "5566348  2021-11-12 14:50:15.504                  1140   \n",
       "5566349  2021-11-13 07:00:16.679                  1140   \n",
       "5566350  2021-11-12 06:52:55.865                  1140   \n",
       "\n",
       "                        end_date  emplacement_pk_end  duration_sec  is_member  \\\n",
       "0        2021-06-29 19:33:25.700                  10          6417          0   \n",
       "1        2021-04-25 18:13:26.139                 188           647          0   \n",
       "2        2021-08-08 18:58:57.585                 778           505          1   \n",
       "3        2021-10-11 18:25:31.726                 504          2116          1   \n",
       "4        2021-09-10 16:21:01.403                 780          1743          1   \n",
       "...                          ...                 ...           ...        ...   \n",
       "5566346  2021-11-10 18:24:40.643                 928           410          1   \n",
       "5566347  2021-11-11 14:59:41.446                1140           277          0   \n",
       "5566348  2021-11-12 15:05:37.379                1140           921          1   \n",
       "5566349  2021-11-13 07:15:10.760                 945           894          1   \n",
       "5566350  2021-11-12 07:10:43.917                 945          1068          1   \n",
       "\n",
       "                     start_time                end_time        date  \n",
       "0       2021-06-29 17:46:28.653 2021-06-29 19:33:25.700  2021-06-29  \n",
       "1       2021-04-25 18:02:39.110 2021-04-25 18:13:26.139  2021-04-25  \n",
       "2       2021-08-08 18:50:31.633 2021-08-08 18:58:57.585  2021-08-08  \n",
       "3       2021-10-11 17:50:15.346 2021-10-11 18:25:31.726  2021-10-11  \n",
       "4       2021-09-10 15:51:58.050 2021-09-10 16:21:01.403  2021-09-10  \n",
       "...                         ...                     ...         ...  \n",
       "5566346 2021-11-10 18:17:49.654 2021-11-10 18:24:40.643  2021-11-10  \n",
       "5566347 2021-11-11 14:55:04.039 2021-11-11 14:59:41.446  2021-11-11  \n",
       "5566348 2021-11-12 14:50:15.504 2021-11-12 15:05:37.379  2021-11-12  \n",
       "5566349 2021-11-13 07:00:16.679 2021-11-13 07:15:10.760  2021-11-13  \n",
       "5566350 2021-11-12 06:52:55.865 2021-11-12 07:10:43.917  2021-11-12  \n",
       "\n",
       "[5566331 rows x 9 columns]"
      ]
     },
     "execution_count": 23,
     "metadata": {},
     "output_type": "execute_result"
    }
   ],
   "source": [
    "bixi_data"
   ]
  },
  {
   "cell_type": "markdown",
   "id": "40c2d7ea-2d6d-4f5b-b3b8-74495bea6982",
   "metadata": {},
   "source": [
    "### Step 5: Merge the Datasets"
   ]
  },
  {
   "cell_type": "code",
   "execution_count": 24,
   "id": "a73a35c1-f9fe-41fb-9ce8-d76354f26324",
   "metadata": {},
   "outputs": [],
   "source": [
    "weather_data = weather_data.copy()\n",
    "weather_data['Date/Time'] = pd.to_datetime(weather_data['Date/Time'], errors='coerce')"
   ]
  },
  {
   "cell_type": "code",
   "execution_count": 25,
   "id": "a75c77b5-4218-4865-9118-e21861944584",
   "metadata": {},
   "outputs": [],
   "source": [
    "weather_data['Date/Time'] = pd.to_datetime(weather_data['Date/Time'], errors='coerce')"
   ]
  },
  {
   "cell_type": "code",
   "execution_count": 26,
   "id": "f1c3a77d-2581-40a9-bdb4-fd623981a0d4",
   "metadata": {},
   "outputs": [],
   "source": [
    "weather_data['Date'] = weather_data['Date/Time'].dt.date"
   ]
  },
  {
   "cell_type": "code",
   "execution_count": 27,
   "id": "c0a09d06-82b9-4c76-ae95-92c407b87a6e",
   "metadata": {},
   "outputs": [],
   "source": [
    "weather_data['Date'] = pd.to_datetime(weather_data['Date'], errors='coerce')"
   ]
  },
  {
   "cell_type": "code",
   "execution_count": 28,
   "id": "9ada93a8-eccc-4a56-a19b-7daea6d709fc",
   "metadata": {},
   "outputs": [],
   "source": [
    "weather_data['Date'] = weather_data['Date'].dt.date"
   ]
  },
  {
   "cell_type": "code",
   "execution_count": 29,
   "id": "3bb4e83d-edd5-412a-89aa-d208411bbd93",
   "metadata": {},
   "outputs": [],
   "source": [
    "weather_data.rename(columns={'Date': 'date'}, inplace=True)"
   ]
  },
  {
   "cell_type": "code",
   "execution_count": 30,
   "id": "421dd8a6-bfbf-4045-b133-ce2c20fd88a3",
   "metadata": {},
   "outputs": [],
   "source": [
    "weather_data['date'] = pd.to_datetime(weather_data['date']).dt.date\n",
    "bixi_data['date'] = pd.to_datetime(bixi_data['date']).dt.date"
   ]
  },
  {
   "cell_type": "code",
   "execution_count": 31,
   "id": "3ac3534e-5c4c-4c26-8144-243386d82556",
   "metadata": {},
   "outputs": [],
   "source": [
    "combined_data = pd.merge(bixi_data, weather_data, on='date', how='inner')"
   ]
  },
  {
   "cell_type": "code",
   "execution_count": 32,
   "id": "5cd4c700-8e8f-460e-b59c-8e0315fec253",
   "metadata": {},
   "outputs": [
    {
     "data": {
      "text/html": [
       "<div>\n",
       "<style scoped>\n",
       "    .dataframe tbody tr th:only-of-type {\n",
       "        vertical-align: middle;\n",
       "    }\n",
       "\n",
       "    .dataframe tbody tr th {\n",
       "        vertical-align: top;\n",
       "    }\n",
       "\n",
       "    .dataframe thead th {\n",
       "        text-align: right;\n",
       "    }\n",
       "</style>\n",
       "<table border=\"1\" class=\"dataframe\">\n",
       "  <thead>\n",
       "    <tr style=\"text-align: right;\">\n",
       "      <th></th>\n",
       "      <th>start_date</th>\n",
       "      <th>emplacement_pk_start</th>\n",
       "      <th>end_date</th>\n",
       "      <th>emplacement_pk_end</th>\n",
       "      <th>duration_sec</th>\n",
       "      <th>is_member</th>\n",
       "      <th>start_time</th>\n",
       "      <th>end_time</th>\n",
       "      <th>date</th>\n",
       "      <th>Date/Time</th>\n",
       "      <th>Max Temp (°C)</th>\n",
       "      <th>Min Temp (°C)</th>\n",
       "      <th>Total Precip (mm)</th>\n",
       "      <th>Snow on Grnd (cm)</th>\n",
       "      <th>Spd of Max Gust (km/h)</th>\n",
       "      <th>Longitude (x)</th>\n",
       "      <th>Latitude (y)</th>\n",
       "    </tr>\n",
       "  </thead>\n",
       "  <tbody>\n",
       "    <tr>\n",
       "      <th>0</th>\n",
       "      <td>2021-06-29 17:46:28.653</td>\n",
       "      <td>10</td>\n",
       "      <td>2021-06-29 19:33:25.700</td>\n",
       "      <td>10</td>\n",
       "      <td>6417</td>\n",
       "      <td>0</td>\n",
       "      <td>2021-06-29 17:46:28.653</td>\n",
       "      <td>2021-06-29 19:33:25.700</td>\n",
       "      <td>2021-06-29</td>\n",
       "      <td>2021-06-29</td>\n",
       "      <td>28.6</td>\n",
       "      <td>22.3</td>\n",
       "      <td>0.2</td>\n",
       "      <td>0.0</td>\n",
       "      <td>36.0</td>\n",
       "      <td>-73.74</td>\n",
       "      <td>45.47</td>\n",
       "    </tr>\n",
       "    <tr>\n",
       "      <th>1</th>\n",
       "      <td>2021-04-25 18:02:39.110</td>\n",
       "      <td>10</td>\n",
       "      <td>2021-04-25 18:13:26.139</td>\n",
       "      <td>188</td>\n",
       "      <td>647</td>\n",
       "      <td>0</td>\n",
       "      <td>2021-04-25 18:02:39.110</td>\n",
       "      <td>2021-04-25 18:13:26.139</td>\n",
       "      <td>2021-04-25</td>\n",
       "      <td>2021-04-25</td>\n",
       "      <td>16.9</td>\n",
       "      <td>1.4</td>\n",
       "      <td>2.4</td>\n",
       "      <td>0.0</td>\n",
       "      <td>50.0</td>\n",
       "      <td>-73.74</td>\n",
       "      <td>45.47</td>\n",
       "    </tr>\n",
       "    <tr>\n",
       "      <th>2</th>\n",
       "      <td>2021-08-08 18:50:31.633</td>\n",
       "      <td>10</td>\n",
       "      <td>2021-08-08 18:58:57.585</td>\n",
       "      <td>778</td>\n",
       "      <td>505</td>\n",
       "      <td>1</td>\n",
       "      <td>2021-08-08 18:50:31.633</td>\n",
       "      <td>2021-08-08 18:58:57.585</td>\n",
       "      <td>2021-08-08</td>\n",
       "      <td>2021-08-08</td>\n",
       "      <td>28.4</td>\n",
       "      <td>19.1</td>\n",
       "      <td>0.0</td>\n",
       "      <td>0.0</td>\n",
       "      <td>32.0</td>\n",
       "      <td>-73.74</td>\n",
       "      <td>45.47</td>\n",
       "    </tr>\n",
       "    <tr>\n",
       "      <th>3</th>\n",
       "      <td>2021-10-11 17:50:15.346</td>\n",
       "      <td>10</td>\n",
       "      <td>2021-10-11 18:25:31.726</td>\n",
       "      <td>504</td>\n",
       "      <td>2116</td>\n",
       "      <td>1</td>\n",
       "      <td>2021-10-11 17:50:15.346</td>\n",
       "      <td>2021-10-11 18:25:31.726</td>\n",
       "      <td>2021-10-11</td>\n",
       "      <td>2021-10-11</td>\n",
       "      <td>21.7</td>\n",
       "      <td>13.8</td>\n",
       "      <td>0.0</td>\n",
       "      <td>0.0</td>\n",
       "      <td>49.0</td>\n",
       "      <td>-73.74</td>\n",
       "      <td>45.47</td>\n",
       "    </tr>\n",
       "    <tr>\n",
       "      <th>4</th>\n",
       "      <td>2021-09-10 15:51:58.050</td>\n",
       "      <td>10</td>\n",
       "      <td>2021-09-10 16:21:01.403</td>\n",
       "      <td>780</td>\n",
       "      <td>1743</td>\n",
       "      <td>1</td>\n",
       "      <td>2021-09-10 15:51:58.050</td>\n",
       "      <td>2021-09-10 16:21:01.403</td>\n",
       "      <td>2021-09-10</td>\n",
       "      <td>2021-09-10</td>\n",
       "      <td>20.5</td>\n",
       "      <td>14.2</td>\n",
       "      <td>0.4</td>\n",
       "      <td>0.0</td>\n",
       "      <td>43.0</td>\n",
       "      <td>-73.74</td>\n",
       "      <td>45.47</td>\n",
       "    </tr>\n",
       "    <tr>\n",
       "      <th>...</th>\n",
       "      <td>...</td>\n",
       "      <td>...</td>\n",
       "      <td>...</td>\n",
       "      <td>...</td>\n",
       "      <td>...</td>\n",
       "      <td>...</td>\n",
       "      <td>...</td>\n",
       "      <td>...</td>\n",
       "      <td>...</td>\n",
       "      <td>...</td>\n",
       "      <td>...</td>\n",
       "      <td>...</td>\n",
       "      <td>...</td>\n",
       "      <td>...</td>\n",
       "      <td>...</td>\n",
       "      <td>...</td>\n",
       "      <td>...</td>\n",
       "    </tr>\n",
       "    <tr>\n",
       "      <th>5566326</th>\n",
       "      <td>2021-11-10 18:17:49.654</td>\n",
       "      <td>1140</td>\n",
       "      <td>2021-11-10 18:24:40.643</td>\n",
       "      <td>928</td>\n",
       "      <td>410</td>\n",
       "      <td>1</td>\n",
       "      <td>2021-11-10 18:17:49.654</td>\n",
       "      <td>2021-11-10 18:24:40.643</td>\n",
       "      <td>2021-11-10</td>\n",
       "      <td>2021-11-10</td>\n",
       "      <td>11.8</td>\n",
       "      <td>0.6</td>\n",
       "      <td>0.0</td>\n",
       "      <td>0.0</td>\n",
       "      <td>45.0</td>\n",
       "      <td>-73.74</td>\n",
       "      <td>45.47</td>\n",
       "    </tr>\n",
       "    <tr>\n",
       "      <th>5566327</th>\n",
       "      <td>2021-11-11 14:55:04.039</td>\n",
       "      <td>1140</td>\n",
       "      <td>2021-11-11 14:59:41.446</td>\n",
       "      <td>1140</td>\n",
       "      <td>277</td>\n",
       "      <td>0</td>\n",
       "      <td>2021-11-11 14:55:04.039</td>\n",
       "      <td>2021-11-11 14:59:41.446</td>\n",
       "      <td>2021-11-11</td>\n",
       "      <td>2021-11-11</td>\n",
       "      <td>8.5</td>\n",
       "      <td>-1.5</td>\n",
       "      <td>0.0</td>\n",
       "      <td>0.0</td>\n",
       "      <td>35.0</td>\n",
       "      <td>-73.74</td>\n",
       "      <td>45.47</td>\n",
       "    </tr>\n",
       "    <tr>\n",
       "      <th>5566328</th>\n",
       "      <td>2021-11-12 14:50:15.504</td>\n",
       "      <td>1140</td>\n",
       "      <td>2021-11-12 15:05:37.379</td>\n",
       "      <td>1140</td>\n",
       "      <td>921</td>\n",
       "      <td>1</td>\n",
       "      <td>2021-11-12 14:50:15.504</td>\n",
       "      <td>2021-11-12 15:05:37.379</td>\n",
       "      <td>2021-11-12</td>\n",
       "      <td>2021-11-12</td>\n",
       "      <td>10.8</td>\n",
       "      <td>3.4</td>\n",
       "      <td>21.8</td>\n",
       "      <td>0.0</td>\n",
       "      <td>43.0</td>\n",
       "      <td>-73.74</td>\n",
       "      <td>45.47</td>\n",
       "    </tr>\n",
       "    <tr>\n",
       "      <th>5566329</th>\n",
       "      <td>2021-11-13 07:00:16.679</td>\n",
       "      <td>1140</td>\n",
       "      <td>2021-11-13 07:15:10.760</td>\n",
       "      <td>945</td>\n",
       "      <td>894</td>\n",
       "      <td>1</td>\n",
       "      <td>2021-11-13 07:00:16.679</td>\n",
       "      <td>2021-11-13 07:15:10.760</td>\n",
       "      <td>2021-11-13</td>\n",
       "      <td>2021-11-13</td>\n",
       "      <td>8.1</td>\n",
       "      <td>0.9</td>\n",
       "      <td>3.0</td>\n",
       "      <td>0.0</td>\n",
       "      <td>32.0</td>\n",
       "      <td>-73.74</td>\n",
       "      <td>45.47</td>\n",
       "    </tr>\n",
       "    <tr>\n",
       "      <th>5566330</th>\n",
       "      <td>2021-11-12 06:52:55.865</td>\n",
       "      <td>1140</td>\n",
       "      <td>2021-11-12 07:10:43.917</td>\n",
       "      <td>945</td>\n",
       "      <td>1068</td>\n",
       "      <td>1</td>\n",
       "      <td>2021-11-12 06:52:55.865</td>\n",
       "      <td>2021-11-12 07:10:43.917</td>\n",
       "      <td>2021-11-12</td>\n",
       "      <td>2021-11-12</td>\n",
       "      <td>10.8</td>\n",
       "      <td>3.4</td>\n",
       "      <td>21.8</td>\n",
       "      <td>0.0</td>\n",
       "      <td>43.0</td>\n",
       "      <td>-73.74</td>\n",
       "      <td>45.47</td>\n",
       "    </tr>\n",
       "  </tbody>\n",
       "</table>\n",
       "<p>5566331 rows × 17 columns</p>\n",
       "</div>"
      ],
      "text/plain": [
       "                      start_date  emplacement_pk_start  \\\n",
       "0        2021-06-29 17:46:28.653                    10   \n",
       "1        2021-04-25 18:02:39.110                    10   \n",
       "2        2021-08-08 18:50:31.633                    10   \n",
       "3        2021-10-11 17:50:15.346                    10   \n",
       "4        2021-09-10 15:51:58.050                    10   \n",
       "...                          ...                   ...   \n",
       "5566326  2021-11-10 18:17:49.654                  1140   \n",
       "5566327  2021-11-11 14:55:04.039                  1140   \n",
       "5566328  2021-11-12 14:50:15.504                  1140   \n",
       "5566329  2021-11-13 07:00:16.679                  1140   \n",
       "5566330  2021-11-12 06:52:55.865                  1140   \n",
       "\n",
       "                        end_date  emplacement_pk_end  duration_sec  is_member  \\\n",
       "0        2021-06-29 19:33:25.700                  10          6417          0   \n",
       "1        2021-04-25 18:13:26.139                 188           647          0   \n",
       "2        2021-08-08 18:58:57.585                 778           505          1   \n",
       "3        2021-10-11 18:25:31.726                 504          2116          1   \n",
       "4        2021-09-10 16:21:01.403                 780          1743          1   \n",
       "...                          ...                 ...           ...        ...   \n",
       "5566326  2021-11-10 18:24:40.643                 928           410          1   \n",
       "5566327  2021-11-11 14:59:41.446                1140           277          0   \n",
       "5566328  2021-11-12 15:05:37.379                1140           921          1   \n",
       "5566329  2021-11-13 07:15:10.760                 945           894          1   \n",
       "5566330  2021-11-12 07:10:43.917                 945          1068          1   \n",
       "\n",
       "                     start_time                end_time        date  \\\n",
       "0       2021-06-29 17:46:28.653 2021-06-29 19:33:25.700  2021-06-29   \n",
       "1       2021-04-25 18:02:39.110 2021-04-25 18:13:26.139  2021-04-25   \n",
       "2       2021-08-08 18:50:31.633 2021-08-08 18:58:57.585  2021-08-08   \n",
       "3       2021-10-11 17:50:15.346 2021-10-11 18:25:31.726  2021-10-11   \n",
       "4       2021-09-10 15:51:58.050 2021-09-10 16:21:01.403  2021-09-10   \n",
       "...                         ...                     ...         ...   \n",
       "5566326 2021-11-10 18:17:49.654 2021-11-10 18:24:40.643  2021-11-10   \n",
       "5566327 2021-11-11 14:55:04.039 2021-11-11 14:59:41.446  2021-11-11   \n",
       "5566328 2021-11-12 14:50:15.504 2021-11-12 15:05:37.379  2021-11-12   \n",
       "5566329 2021-11-13 07:00:16.679 2021-11-13 07:15:10.760  2021-11-13   \n",
       "5566330 2021-11-12 06:52:55.865 2021-11-12 07:10:43.917  2021-11-12   \n",
       "\n",
       "         Date/Time  Max Temp (°C)  Min Temp (°C)  Total Precip (mm)  \\\n",
       "0       2021-06-29           28.6           22.3                0.2   \n",
       "1       2021-04-25           16.9            1.4                2.4   \n",
       "2       2021-08-08           28.4           19.1                0.0   \n",
       "3       2021-10-11           21.7           13.8                0.0   \n",
       "4       2021-09-10           20.5           14.2                0.4   \n",
       "...            ...            ...            ...                ...   \n",
       "5566326 2021-11-10           11.8            0.6                0.0   \n",
       "5566327 2021-11-11            8.5           -1.5                0.0   \n",
       "5566328 2021-11-12           10.8            3.4               21.8   \n",
       "5566329 2021-11-13            8.1            0.9                3.0   \n",
       "5566330 2021-11-12           10.8            3.4               21.8   \n",
       "\n",
       "         Snow on Grnd (cm)  Spd of Max Gust (km/h)  Longitude (x)  \\\n",
       "0                      0.0                    36.0         -73.74   \n",
       "1                      0.0                    50.0         -73.74   \n",
       "2                      0.0                    32.0         -73.74   \n",
       "3                      0.0                    49.0         -73.74   \n",
       "4                      0.0                    43.0         -73.74   \n",
       "...                    ...                     ...            ...   \n",
       "5566326                0.0                    45.0         -73.74   \n",
       "5566327                0.0                    35.0         -73.74   \n",
       "5566328                0.0                    43.0         -73.74   \n",
       "5566329                0.0                    32.0         -73.74   \n",
       "5566330                0.0                    43.0         -73.74   \n",
       "\n",
       "         Latitude (y)  \n",
       "0               45.47  \n",
       "1               45.47  \n",
       "2               45.47  \n",
       "3               45.47  \n",
       "4               45.47  \n",
       "...               ...  \n",
       "5566326         45.47  \n",
       "5566327         45.47  \n",
       "5566328         45.47  \n",
       "5566329         45.47  \n",
       "5566330         45.47  \n",
       "\n",
       "[5566331 rows x 17 columns]"
      ]
     },
     "execution_count": 32,
     "metadata": {},
     "output_type": "execute_result"
    }
   ],
   "source": [
    "combined_data"
   ]
  },
  {
   "cell_type": "markdown",
   "id": "21261568-ee2b-4c37-8692-35bedcbb47f7",
   "metadata": {},
   "source": [
    "### Step 6: Validate the Combined Data"
   ]
  },
  {
   "cell_type": "code",
   "execution_count": 33,
   "id": "9ae78dc8-7654-4a3f-bd42-e4b6042d5352",
   "metadata": {},
   "outputs": [
    {
     "name": "stdout",
     "output_type": "stream",
     "text": [
      "Combined Data Missing Values:\n",
      " start_date                0\n",
      "emplacement_pk_start      0\n",
      "end_date                  0\n",
      "emplacement_pk_end        0\n",
      "duration_sec              0\n",
      "is_member                 0\n",
      "start_time                0\n",
      "end_time                  0\n",
      "date                      0\n",
      "Date/Time                 0\n",
      "Max Temp (°C)             0\n",
      "Min Temp (°C)             0\n",
      "Total Precip (mm)         0\n",
      "Snow on Grnd (cm)         0\n",
      "Spd of Max Gust (km/h)    0\n",
      "Longitude (x)             0\n",
      "Latitude (y)              0\n",
      "dtype: int64\n"
     ]
    }
   ],
   "source": [
    "print(\"Combined Data Missing Values:\\n\", combined_data.isnull().sum())"
   ]
  },
  {
   "cell_type": "code",
   "execution_count": 34,
   "id": "d7d2bdaf-ae7f-459a-a0a3-6cc3a1433b08",
   "metadata": {},
   "outputs": [
    {
     "name": "stdout",
     "output_type": "stream",
     "text": [
      "<class 'pandas.core.frame.DataFrame'>\n",
      "RangeIndex: 5566331 entries, 0 to 5566330\n",
      "Data columns (total 17 columns):\n",
      " #   Column                  Dtype         \n",
      "---  ------                  -----         \n",
      " 0   start_date              object        \n",
      " 1   emplacement_pk_start    int64         \n",
      " 2   end_date                object        \n",
      " 3   emplacement_pk_end      int64         \n",
      " 4   duration_sec            int64         \n",
      " 5   is_member               int64         \n",
      " 6   start_time              datetime64[ns]\n",
      " 7   end_time                datetime64[ns]\n",
      " 8   date                    object        \n",
      " 9   Date/Time               datetime64[ns]\n",
      " 10  Max Temp (°C)           float64       \n",
      " 11  Min Temp (°C)           float64       \n",
      " 12  Total Precip (mm)       float64       \n",
      " 13  Snow on Grnd (cm)       float64       \n",
      " 14  Spd of Max Gust (km/h)  float64       \n",
      " 15  Longitude (x)           float64       \n",
      " 16  Latitude (y)            float64       \n",
      "dtypes: datetime64[ns](3), float64(7), int64(4), object(3)\n",
      "memory usage: 722.0+ MB\n",
      "None\n"
     ]
    }
   ],
   "source": [
    "print(combined_data.info())\n",
    "combined_data = combined_data.drop_duplicates()"
   ]
  },
  {
   "cell_type": "markdown",
   "id": "392f5bd8-578d-4282-a783-69e30c59f427",
   "metadata": {},
   "source": [
    "### Step 7: Save the Cleaned Data"
   ]
  },
  {
   "cell_type": "code",
   "execution_count": 35,
   "id": "35dc9efa-7118-492b-8902-17e6b5f446d4",
   "metadata": {},
   "outputs": [],
   "source": [
    "import os"
   ]
  },
  {
   "cell_type": "code",
   "execution_count": 36,
   "id": "e0cc50f8-d21a-48cc-b7f9-5b3d20092546",
   "metadata": {},
   "outputs": [],
   "source": [
    "output_dir = 'BikeML/data'"
   ]
  },
  {
   "cell_type": "code",
   "execution_count": 37,
   "id": "520b983d-c2e8-4d21-ac8b-4a0a6e81d1b3",
   "metadata": {},
   "outputs": [],
   "source": [
    "os.makedirs(output_dir, exist_ok=True)"
   ]
  },
  {
   "cell_type": "code",
   "execution_count": 38,
   "id": "bedf2dae-799c-4930-b199-9e556a3fe0ff",
   "metadata": {},
   "outputs": [],
   "source": [
    "output_path = os.path.join(output_dir, 'combined_data.csv')\n",
    "combined_data.to_csv(output_path, index=False)"
   ]
  },
  {
   "cell_type": "code",
   "execution_count": 39,
   "id": "bb21c277-9763-4522-a223-e5fc58bca7c8",
   "metadata": {},
   "outputs": [
    {
     "name": "stdout",
     "output_type": "stream",
     "text": [
      "File saved to BikeML/data\\combined_data.csv\n"
     ]
    }
   ],
   "source": [
    "print(f\"File saved to {output_path}\")"
   ]
  },
  {
   "cell_type": "markdown",
   "id": "7312db0a-7598-451b-b659-c1bfca518e6b",
   "metadata": {},
   "source": [
    "## Phase 3: Exploratory Data Analysis (EDA)"
   ]
  },
  {
   "cell_type": "markdown",
   "id": "874f74e0-5305-4675-a6d5-7fbd6cf59374",
   "metadata": {},
   "source": [
    "### Step 1: Understand the Structure of the Data"
   ]
  },
  {
   "cell_type": "code",
   "execution_count": 45,
   "id": "c4752007-f0f2-4092-8679-7abbb1032c18",
   "metadata": {},
   "outputs": [
    {
     "name": "stdout",
     "output_type": "stream",
     "text": [
      "Shape of the dataset: (5566328, 12)\n"
     ]
    }
   ],
   "source": [
    "print(\"Shape of the dataset:\", combined_data.shape)"
   ]
  },
  {
   "cell_type": "code",
   "execution_count": 46,
   "id": "ea535dfe-5a64-4d60-bcaf-57561e144492",
   "metadata": {
    "scrolled": true
   },
   "outputs": [
    {
     "name": "stdout",
     "output_type": "stream",
     "text": [
      "                start_date                 end_date  duration_sec  is_member  \\\n",
      "0  2021-06-29 17:46:28.653  2021-06-29 19:33:25.700          6417          0   \n",
      "1  2021-04-25 18:02:39.110  2021-04-25 18:13:26.139           647          0   \n",
      "2  2021-08-08 18:50:31.633  2021-08-08 18:58:57.585           505          1   \n",
      "3  2021-10-11 17:50:15.346  2021-10-11 18:25:31.726          2116          1   \n",
      "4  2021-09-10 15:51:58.050  2021-09-10 16:21:01.403          1743          1   \n",
      "\n",
      "         date  Max Temp (°C)  Min Temp (°C)  Total Precip (mm)  \\\n",
      "0  2021-06-29           28.6           22.3                0.2   \n",
      "1  2021-04-25           16.9            1.4                2.4   \n",
      "2  2021-08-08           28.4           19.1                0.0   \n",
      "3  2021-10-11           21.7           13.8                0.0   \n",
      "4  2021-09-10           20.5           14.2                0.4   \n",
      "\n",
      "   Snow on Grnd (cm)  Spd of Max Gust (km/h)  Longitude (x)  Latitude (y)  \n",
      "0                0.0                    36.0         -73.74         45.47  \n",
      "1                0.0                    50.0         -73.74         45.47  \n",
      "2                0.0                    32.0         -73.74         45.47  \n",
      "3                0.0                    49.0         -73.74         45.47  \n",
      "4                0.0                    43.0         -73.74         45.47  \n"
     ]
    }
   ],
   "source": [
    "print(combined_data.head())"
   ]
  },
  {
   "cell_type": "code",
   "execution_count": 47,
   "id": "d185a9c7-3a00-4647-8501-9207caeea050",
   "metadata": {
    "scrolled": true
   },
   "outputs": [
    {
     "name": "stdout",
     "output_type": "stream",
     "text": [
      "<class 'pandas.core.frame.DataFrame'>\n",
      "Index: 5566328 entries, 0 to 5566330\n",
      "Data columns (total 12 columns):\n",
      " #   Column                  Dtype  \n",
      "---  ------                  -----  \n",
      " 0   start_date              object \n",
      " 1   end_date                object \n",
      " 2   duration_sec            int64  \n",
      " 3   is_member               int64  \n",
      " 4   date                    object \n",
      " 5   Max Temp (°C)           float64\n",
      " 6   Min Temp (°C)           float64\n",
      " 7   Total Precip (mm)       float64\n",
      " 8   Snow on Grnd (cm)       float64\n",
      " 9   Spd of Max Gust (km/h)  float64\n",
      " 10  Longitude (x)           float64\n",
      " 11  Latitude (y)            float64\n",
      "dtypes: float64(7), int64(2), object(3)\n",
      "memory usage: 552.1+ MB\n",
      "None\n"
     ]
    }
   ],
   "source": [
    "print(combined_data.info())"
   ]
  },
  {
   "cell_type": "code",
   "execution_count": 48,
   "id": "205af36e-8473-4ccf-8388-84aa4660bca5",
   "metadata": {
    "scrolled": true
   },
   "outputs": [
    {
     "name": "stdout",
     "output_type": "stream",
     "text": [
      "       duration_sec     is_member  Max Temp (°C)  Min Temp (°C)  \\\n",
      "count  5.566328e+06  5.566328e+06   5.566328e+06   5.566328e+06   \n",
      "mean   8.618048e+02  8.242225e-01   2.265056e+01   1.288995e+01   \n",
      "std    1.810836e+03  3.806308e-01   6.291038e+00   6.014258e+00   \n",
      "min    1.000000e+00  0.000000e+00   3.700000e+00  -3.600000e+00   \n",
      "25%    3.660000e+02  1.000000e+00   1.940000e+01   8.900000e+00   \n",
      "50%    6.420000e+02  1.000000e+00   2.380000e+01   1.370000e+01   \n",
      "75%    1.091000e+03  1.000000e+00   2.740000e+01   1.730000e+01   \n",
      "max    1.565260e+06  1.000000e+00   3.400000e+01   2.400000e+01   \n",
      "\n",
      "       Total Precip (mm)  Snow on Grnd (cm)  Spd of Max Gust (km/h)  \\\n",
      "count       5.566328e+06       5.566328e+06            5.566328e+06   \n",
      "mean        1.683448e+00       2.257862e-03            4.288228e+01   \n",
      "std         4.590527e+00       6.716120e-02            9.161288e+00   \n",
      "min         0.000000e+00       0.000000e+00            3.100000e+01   \n",
      "25%         0.000000e+00       0.000000e+00            3.600000e+01   \n",
      "50%         0.000000e+00       0.000000e+00            4.200000e+01   \n",
      "75%         6.000000e-01       0.000000e+00            4.900000e+01   \n",
      "max         3.800000e+01       2.000000e+00            9.100000e+01   \n",
      "\n",
      "       Longitude (x)  Latitude (y)  \n",
      "count   5.566328e+06  5.566328e+06  \n",
      "mean   -7.374000e+01  4.547000e+01  \n",
      "std     2.415846e-13  3.907985e-13  \n",
      "min    -7.374000e+01  4.547000e+01  \n",
      "25%    -7.374000e+01  4.547000e+01  \n",
      "50%    -7.374000e+01  4.547000e+01  \n",
      "75%    -7.374000e+01  4.547000e+01  \n",
      "max    -7.374000e+01  4.547000e+01  \n"
     ]
    }
   ],
   "source": [
    "print(combined_data.describe())"
   ]
  },
  {
   "cell_type": "code",
   "execution_count": 49,
   "id": "b13537d1-8514-4503-a288-2228835b6372",
   "metadata": {},
   "outputs": [],
   "source": [
    "# Keep only relevant columns\n",
    "combined_data = combined_data[[\n",
    "    'start_date',          # Trip start date\n",
    "    'end_date',            # Trip end date\n",
    "    'duration_sec',        # Trip duration in seconds\n",
    "    'is_member',           # Membership status\n",
    "    'date',                # Date for weather and trip aggregation\n",
    "    'Max Temp (°C)',       # Maximum temperature\n",
    "    'Min Temp (°C)',       # Minimum temperature\n",
    "    'Total Precip (mm)',   # Total precipitation\n",
    "    'Snow on Grnd (cm)',   # Snow on the ground\n",
    "    'Spd of Max Gust (km/h)',  # Wind gust speed\n",
    "    'Longitude (x)',       # Geographic longitude\n",
    "    'Latitude (y)'         # Geographic latitude\n",
    "]]"
   ]
  },
  {
   "cell_type": "code",
   "execution_count": 50,
   "id": "641f3a83-3554-46f5-9117-9023055ed74b",
   "metadata": {
    "scrolled": true
   },
   "outputs": [
    {
     "data": {
      "text/html": [
       "<div>\n",
       "<style scoped>\n",
       "    .dataframe tbody tr th:only-of-type {\n",
       "        vertical-align: middle;\n",
       "    }\n",
       "\n",
       "    .dataframe tbody tr th {\n",
       "        vertical-align: top;\n",
       "    }\n",
       "\n",
       "    .dataframe thead th {\n",
       "        text-align: right;\n",
       "    }\n",
       "</style>\n",
       "<table border=\"1\" class=\"dataframe\">\n",
       "  <thead>\n",
       "    <tr style=\"text-align: right;\">\n",
       "      <th></th>\n",
       "      <th>start_date</th>\n",
       "      <th>end_date</th>\n",
       "      <th>duration_sec</th>\n",
       "      <th>is_member</th>\n",
       "      <th>date</th>\n",
       "      <th>Max Temp (°C)</th>\n",
       "      <th>Min Temp (°C)</th>\n",
       "      <th>Total Precip (mm)</th>\n",
       "      <th>Snow on Grnd (cm)</th>\n",
       "      <th>Spd of Max Gust (km/h)</th>\n",
       "      <th>Longitude (x)</th>\n",
       "      <th>Latitude (y)</th>\n",
       "    </tr>\n",
       "  </thead>\n",
       "  <tbody>\n",
       "    <tr>\n",
       "      <th>0</th>\n",
       "      <td>2021-06-29 17:46:28.653</td>\n",
       "      <td>2021-06-29 19:33:25.700</td>\n",
       "      <td>6417</td>\n",
       "      <td>0</td>\n",
       "      <td>2021-06-29</td>\n",
       "      <td>28.6</td>\n",
       "      <td>22.3</td>\n",
       "      <td>0.2</td>\n",
       "      <td>0.0</td>\n",
       "      <td>36.0</td>\n",
       "      <td>-73.74</td>\n",
       "      <td>45.47</td>\n",
       "    </tr>\n",
       "    <tr>\n",
       "      <th>1</th>\n",
       "      <td>2021-04-25 18:02:39.110</td>\n",
       "      <td>2021-04-25 18:13:26.139</td>\n",
       "      <td>647</td>\n",
       "      <td>0</td>\n",
       "      <td>2021-04-25</td>\n",
       "      <td>16.9</td>\n",
       "      <td>1.4</td>\n",
       "      <td>2.4</td>\n",
       "      <td>0.0</td>\n",
       "      <td>50.0</td>\n",
       "      <td>-73.74</td>\n",
       "      <td>45.47</td>\n",
       "    </tr>\n",
       "    <tr>\n",
       "      <th>2</th>\n",
       "      <td>2021-08-08 18:50:31.633</td>\n",
       "      <td>2021-08-08 18:58:57.585</td>\n",
       "      <td>505</td>\n",
       "      <td>1</td>\n",
       "      <td>2021-08-08</td>\n",
       "      <td>28.4</td>\n",
       "      <td>19.1</td>\n",
       "      <td>0.0</td>\n",
       "      <td>0.0</td>\n",
       "      <td>32.0</td>\n",
       "      <td>-73.74</td>\n",
       "      <td>45.47</td>\n",
       "    </tr>\n",
       "    <tr>\n",
       "      <th>3</th>\n",
       "      <td>2021-10-11 17:50:15.346</td>\n",
       "      <td>2021-10-11 18:25:31.726</td>\n",
       "      <td>2116</td>\n",
       "      <td>1</td>\n",
       "      <td>2021-10-11</td>\n",
       "      <td>21.7</td>\n",
       "      <td>13.8</td>\n",
       "      <td>0.0</td>\n",
       "      <td>0.0</td>\n",
       "      <td>49.0</td>\n",
       "      <td>-73.74</td>\n",
       "      <td>45.47</td>\n",
       "    </tr>\n",
       "    <tr>\n",
       "      <th>4</th>\n",
       "      <td>2021-09-10 15:51:58.050</td>\n",
       "      <td>2021-09-10 16:21:01.403</td>\n",
       "      <td>1743</td>\n",
       "      <td>1</td>\n",
       "      <td>2021-09-10</td>\n",
       "      <td>20.5</td>\n",
       "      <td>14.2</td>\n",
       "      <td>0.4</td>\n",
       "      <td>0.0</td>\n",
       "      <td>43.0</td>\n",
       "      <td>-73.74</td>\n",
       "      <td>45.47</td>\n",
       "    </tr>\n",
       "    <tr>\n",
       "      <th>...</th>\n",
       "      <td>...</td>\n",
       "      <td>...</td>\n",
       "      <td>...</td>\n",
       "      <td>...</td>\n",
       "      <td>...</td>\n",
       "      <td>...</td>\n",
       "      <td>...</td>\n",
       "      <td>...</td>\n",
       "      <td>...</td>\n",
       "      <td>...</td>\n",
       "      <td>...</td>\n",
       "      <td>...</td>\n",
       "    </tr>\n",
       "    <tr>\n",
       "      <th>5566326</th>\n",
       "      <td>2021-11-10 18:17:49.654</td>\n",
       "      <td>2021-11-10 18:24:40.643</td>\n",
       "      <td>410</td>\n",
       "      <td>1</td>\n",
       "      <td>2021-11-10</td>\n",
       "      <td>11.8</td>\n",
       "      <td>0.6</td>\n",
       "      <td>0.0</td>\n",
       "      <td>0.0</td>\n",
       "      <td>45.0</td>\n",
       "      <td>-73.74</td>\n",
       "      <td>45.47</td>\n",
       "    </tr>\n",
       "    <tr>\n",
       "      <th>5566327</th>\n",
       "      <td>2021-11-11 14:55:04.039</td>\n",
       "      <td>2021-11-11 14:59:41.446</td>\n",
       "      <td>277</td>\n",
       "      <td>0</td>\n",
       "      <td>2021-11-11</td>\n",
       "      <td>8.5</td>\n",
       "      <td>-1.5</td>\n",
       "      <td>0.0</td>\n",
       "      <td>0.0</td>\n",
       "      <td>35.0</td>\n",
       "      <td>-73.74</td>\n",
       "      <td>45.47</td>\n",
       "    </tr>\n",
       "    <tr>\n",
       "      <th>5566328</th>\n",
       "      <td>2021-11-12 14:50:15.504</td>\n",
       "      <td>2021-11-12 15:05:37.379</td>\n",
       "      <td>921</td>\n",
       "      <td>1</td>\n",
       "      <td>2021-11-12</td>\n",
       "      <td>10.8</td>\n",
       "      <td>3.4</td>\n",
       "      <td>21.8</td>\n",
       "      <td>0.0</td>\n",
       "      <td>43.0</td>\n",
       "      <td>-73.74</td>\n",
       "      <td>45.47</td>\n",
       "    </tr>\n",
       "    <tr>\n",
       "      <th>5566329</th>\n",
       "      <td>2021-11-13 07:00:16.679</td>\n",
       "      <td>2021-11-13 07:15:10.760</td>\n",
       "      <td>894</td>\n",
       "      <td>1</td>\n",
       "      <td>2021-11-13</td>\n",
       "      <td>8.1</td>\n",
       "      <td>0.9</td>\n",
       "      <td>3.0</td>\n",
       "      <td>0.0</td>\n",
       "      <td>32.0</td>\n",
       "      <td>-73.74</td>\n",
       "      <td>45.47</td>\n",
       "    </tr>\n",
       "    <tr>\n",
       "      <th>5566330</th>\n",
       "      <td>2021-11-12 06:52:55.865</td>\n",
       "      <td>2021-11-12 07:10:43.917</td>\n",
       "      <td>1068</td>\n",
       "      <td>1</td>\n",
       "      <td>2021-11-12</td>\n",
       "      <td>10.8</td>\n",
       "      <td>3.4</td>\n",
       "      <td>21.8</td>\n",
       "      <td>0.0</td>\n",
       "      <td>43.0</td>\n",
       "      <td>-73.74</td>\n",
       "      <td>45.47</td>\n",
       "    </tr>\n",
       "  </tbody>\n",
       "</table>\n",
       "<p>5566328 rows × 12 columns</p>\n",
       "</div>"
      ],
      "text/plain": [
       "                      start_date                 end_date  duration_sec  \\\n",
       "0        2021-06-29 17:46:28.653  2021-06-29 19:33:25.700          6417   \n",
       "1        2021-04-25 18:02:39.110  2021-04-25 18:13:26.139           647   \n",
       "2        2021-08-08 18:50:31.633  2021-08-08 18:58:57.585           505   \n",
       "3        2021-10-11 17:50:15.346  2021-10-11 18:25:31.726          2116   \n",
       "4        2021-09-10 15:51:58.050  2021-09-10 16:21:01.403          1743   \n",
       "...                          ...                      ...           ...   \n",
       "5566326  2021-11-10 18:17:49.654  2021-11-10 18:24:40.643           410   \n",
       "5566327  2021-11-11 14:55:04.039  2021-11-11 14:59:41.446           277   \n",
       "5566328  2021-11-12 14:50:15.504  2021-11-12 15:05:37.379           921   \n",
       "5566329  2021-11-13 07:00:16.679  2021-11-13 07:15:10.760           894   \n",
       "5566330  2021-11-12 06:52:55.865  2021-11-12 07:10:43.917          1068   \n",
       "\n",
       "         is_member        date  Max Temp (°C)  Min Temp (°C)  \\\n",
       "0                0  2021-06-29           28.6           22.3   \n",
       "1                0  2021-04-25           16.9            1.4   \n",
       "2                1  2021-08-08           28.4           19.1   \n",
       "3                1  2021-10-11           21.7           13.8   \n",
       "4                1  2021-09-10           20.5           14.2   \n",
       "...            ...         ...            ...            ...   \n",
       "5566326          1  2021-11-10           11.8            0.6   \n",
       "5566327          0  2021-11-11            8.5           -1.5   \n",
       "5566328          1  2021-11-12           10.8            3.4   \n",
       "5566329          1  2021-11-13            8.1            0.9   \n",
       "5566330          1  2021-11-12           10.8            3.4   \n",
       "\n",
       "         Total Precip (mm)  Snow on Grnd (cm)  Spd of Max Gust (km/h)  \\\n",
       "0                      0.2                0.0                    36.0   \n",
       "1                      2.4                0.0                    50.0   \n",
       "2                      0.0                0.0                    32.0   \n",
       "3                      0.0                0.0                    49.0   \n",
       "4                      0.4                0.0                    43.0   \n",
       "...                    ...                ...                     ...   \n",
       "5566326                0.0                0.0                    45.0   \n",
       "5566327                0.0                0.0                    35.0   \n",
       "5566328               21.8                0.0                    43.0   \n",
       "5566329                3.0                0.0                    32.0   \n",
       "5566330               21.8                0.0                    43.0   \n",
       "\n",
       "         Longitude (x)  Latitude (y)  \n",
       "0               -73.74         45.47  \n",
       "1               -73.74         45.47  \n",
       "2               -73.74         45.47  \n",
       "3               -73.74         45.47  \n",
       "4               -73.74         45.47  \n",
       "...                ...           ...  \n",
       "5566326         -73.74         45.47  \n",
       "5566327         -73.74         45.47  \n",
       "5566328         -73.74         45.47  \n",
       "5566329         -73.74         45.47  \n",
       "5566330         -73.74         45.47  \n",
       "\n",
       "[5566328 rows x 12 columns]"
      ]
     },
     "execution_count": 50,
     "metadata": {},
     "output_type": "execute_result"
    }
   ],
   "source": [
    "combined_data"
   ]
  },
  {
   "cell_type": "code",
   "execution_count": 51,
   "id": "253fb241-f1a6-4adb-a700-c879e20e1095",
   "metadata": {},
   "outputs": [],
   "source": [
    "# Convert all column names to lowercase and replace spaces with underscores\n",
    "combined_data.columns = combined_data.columns.str.strip().str.lower().str.replace(' ', '_')"
   ]
  },
  {
   "cell_type": "code",
   "execution_count": 52,
   "id": "8c79c312-2623-4a53-8d39-1764fc95b4e6",
   "metadata": {},
   "outputs": [],
   "source": [
    "# Replace special characters in column names\n",
    "combined_data.columns = combined_data.columns.str.replace(r'[^\\w\\s]', '', regex=True)"
   ]
  },
  {
   "cell_type": "code",
   "execution_count": 53,
   "id": "3c79d30d-fd34-48c4-8984-435eb102bb68",
   "metadata": {},
   "outputs": [
    {
     "name": "stdout",
     "output_type": "stream",
     "text": [
      "Index(['start_date', 'end_date', 'duration_sec', 'is_member', 'date',\n",
      "       'max_temp_c', 'min_temp_c', 'total_precip_mm', 'snow_on_grnd_cm',\n",
      "       'spd_of_max_gust_kmh', 'longitude_x', 'latitude_y'],\n",
      "      dtype='object')\n"
     ]
    }
   ],
   "source": [
    "# Display updated column names\n",
    "print(combined_data.columns)"
   ]
  },
  {
   "cell_type": "code",
   "execution_count": 54,
   "id": "6fe7a609-b4aa-4058-a1c4-ec0e99b00437",
   "metadata": {
    "scrolled": true
   },
   "outputs": [
    {
     "data": {
      "text/html": [
       "<div>\n",
       "<style scoped>\n",
       "    .dataframe tbody tr th:only-of-type {\n",
       "        vertical-align: middle;\n",
       "    }\n",
       "\n",
       "    .dataframe tbody tr th {\n",
       "        vertical-align: top;\n",
       "    }\n",
       "\n",
       "    .dataframe thead th {\n",
       "        text-align: right;\n",
       "    }\n",
       "</style>\n",
       "<table border=\"1\" class=\"dataframe\">\n",
       "  <thead>\n",
       "    <tr style=\"text-align: right;\">\n",
       "      <th></th>\n",
       "      <th>start_date</th>\n",
       "      <th>end_date</th>\n",
       "      <th>duration_sec</th>\n",
       "      <th>is_member</th>\n",
       "      <th>date</th>\n",
       "      <th>max_temp_c</th>\n",
       "      <th>min_temp_c</th>\n",
       "      <th>total_precip_mm</th>\n",
       "      <th>snow_on_grnd_cm</th>\n",
       "      <th>spd_of_max_gust_kmh</th>\n",
       "      <th>longitude_x</th>\n",
       "      <th>latitude_y</th>\n",
       "    </tr>\n",
       "  </thead>\n",
       "  <tbody>\n",
       "    <tr>\n",
       "      <th>0</th>\n",
       "      <td>2021-06-29 17:46:28.653</td>\n",
       "      <td>2021-06-29 19:33:25.700</td>\n",
       "      <td>6417</td>\n",
       "      <td>0</td>\n",
       "      <td>2021-06-29</td>\n",
       "      <td>28.6</td>\n",
       "      <td>22.3</td>\n",
       "      <td>0.2</td>\n",
       "      <td>0.0</td>\n",
       "      <td>36.0</td>\n",
       "      <td>-73.74</td>\n",
       "      <td>45.47</td>\n",
       "    </tr>\n",
       "    <tr>\n",
       "      <th>1</th>\n",
       "      <td>2021-04-25 18:02:39.110</td>\n",
       "      <td>2021-04-25 18:13:26.139</td>\n",
       "      <td>647</td>\n",
       "      <td>0</td>\n",
       "      <td>2021-04-25</td>\n",
       "      <td>16.9</td>\n",
       "      <td>1.4</td>\n",
       "      <td>2.4</td>\n",
       "      <td>0.0</td>\n",
       "      <td>50.0</td>\n",
       "      <td>-73.74</td>\n",
       "      <td>45.47</td>\n",
       "    </tr>\n",
       "    <tr>\n",
       "      <th>2</th>\n",
       "      <td>2021-08-08 18:50:31.633</td>\n",
       "      <td>2021-08-08 18:58:57.585</td>\n",
       "      <td>505</td>\n",
       "      <td>1</td>\n",
       "      <td>2021-08-08</td>\n",
       "      <td>28.4</td>\n",
       "      <td>19.1</td>\n",
       "      <td>0.0</td>\n",
       "      <td>0.0</td>\n",
       "      <td>32.0</td>\n",
       "      <td>-73.74</td>\n",
       "      <td>45.47</td>\n",
       "    </tr>\n",
       "    <tr>\n",
       "      <th>3</th>\n",
       "      <td>2021-10-11 17:50:15.346</td>\n",
       "      <td>2021-10-11 18:25:31.726</td>\n",
       "      <td>2116</td>\n",
       "      <td>1</td>\n",
       "      <td>2021-10-11</td>\n",
       "      <td>21.7</td>\n",
       "      <td>13.8</td>\n",
       "      <td>0.0</td>\n",
       "      <td>0.0</td>\n",
       "      <td>49.0</td>\n",
       "      <td>-73.74</td>\n",
       "      <td>45.47</td>\n",
       "    </tr>\n",
       "    <tr>\n",
       "      <th>4</th>\n",
       "      <td>2021-09-10 15:51:58.050</td>\n",
       "      <td>2021-09-10 16:21:01.403</td>\n",
       "      <td>1743</td>\n",
       "      <td>1</td>\n",
       "      <td>2021-09-10</td>\n",
       "      <td>20.5</td>\n",
       "      <td>14.2</td>\n",
       "      <td>0.4</td>\n",
       "      <td>0.0</td>\n",
       "      <td>43.0</td>\n",
       "      <td>-73.74</td>\n",
       "      <td>45.47</td>\n",
       "    </tr>\n",
       "    <tr>\n",
       "      <th>...</th>\n",
       "      <td>...</td>\n",
       "      <td>...</td>\n",
       "      <td>...</td>\n",
       "      <td>...</td>\n",
       "      <td>...</td>\n",
       "      <td>...</td>\n",
       "      <td>...</td>\n",
       "      <td>...</td>\n",
       "      <td>...</td>\n",
       "      <td>...</td>\n",
       "      <td>...</td>\n",
       "      <td>...</td>\n",
       "    </tr>\n",
       "    <tr>\n",
       "      <th>5566326</th>\n",
       "      <td>2021-11-10 18:17:49.654</td>\n",
       "      <td>2021-11-10 18:24:40.643</td>\n",
       "      <td>410</td>\n",
       "      <td>1</td>\n",
       "      <td>2021-11-10</td>\n",
       "      <td>11.8</td>\n",
       "      <td>0.6</td>\n",
       "      <td>0.0</td>\n",
       "      <td>0.0</td>\n",
       "      <td>45.0</td>\n",
       "      <td>-73.74</td>\n",
       "      <td>45.47</td>\n",
       "    </tr>\n",
       "    <tr>\n",
       "      <th>5566327</th>\n",
       "      <td>2021-11-11 14:55:04.039</td>\n",
       "      <td>2021-11-11 14:59:41.446</td>\n",
       "      <td>277</td>\n",
       "      <td>0</td>\n",
       "      <td>2021-11-11</td>\n",
       "      <td>8.5</td>\n",
       "      <td>-1.5</td>\n",
       "      <td>0.0</td>\n",
       "      <td>0.0</td>\n",
       "      <td>35.0</td>\n",
       "      <td>-73.74</td>\n",
       "      <td>45.47</td>\n",
       "    </tr>\n",
       "    <tr>\n",
       "      <th>5566328</th>\n",
       "      <td>2021-11-12 14:50:15.504</td>\n",
       "      <td>2021-11-12 15:05:37.379</td>\n",
       "      <td>921</td>\n",
       "      <td>1</td>\n",
       "      <td>2021-11-12</td>\n",
       "      <td>10.8</td>\n",
       "      <td>3.4</td>\n",
       "      <td>21.8</td>\n",
       "      <td>0.0</td>\n",
       "      <td>43.0</td>\n",
       "      <td>-73.74</td>\n",
       "      <td>45.47</td>\n",
       "    </tr>\n",
       "    <tr>\n",
       "      <th>5566329</th>\n",
       "      <td>2021-11-13 07:00:16.679</td>\n",
       "      <td>2021-11-13 07:15:10.760</td>\n",
       "      <td>894</td>\n",
       "      <td>1</td>\n",
       "      <td>2021-11-13</td>\n",
       "      <td>8.1</td>\n",
       "      <td>0.9</td>\n",
       "      <td>3.0</td>\n",
       "      <td>0.0</td>\n",
       "      <td>32.0</td>\n",
       "      <td>-73.74</td>\n",
       "      <td>45.47</td>\n",
       "    </tr>\n",
       "    <tr>\n",
       "      <th>5566330</th>\n",
       "      <td>2021-11-12 06:52:55.865</td>\n",
       "      <td>2021-11-12 07:10:43.917</td>\n",
       "      <td>1068</td>\n",
       "      <td>1</td>\n",
       "      <td>2021-11-12</td>\n",
       "      <td>10.8</td>\n",
       "      <td>3.4</td>\n",
       "      <td>21.8</td>\n",
       "      <td>0.0</td>\n",
       "      <td>43.0</td>\n",
       "      <td>-73.74</td>\n",
       "      <td>45.47</td>\n",
       "    </tr>\n",
       "  </tbody>\n",
       "</table>\n",
       "<p>5566328 rows × 12 columns</p>\n",
       "</div>"
      ],
      "text/plain": [
       "                      start_date                 end_date  duration_sec  \\\n",
       "0        2021-06-29 17:46:28.653  2021-06-29 19:33:25.700          6417   \n",
       "1        2021-04-25 18:02:39.110  2021-04-25 18:13:26.139           647   \n",
       "2        2021-08-08 18:50:31.633  2021-08-08 18:58:57.585           505   \n",
       "3        2021-10-11 17:50:15.346  2021-10-11 18:25:31.726          2116   \n",
       "4        2021-09-10 15:51:58.050  2021-09-10 16:21:01.403          1743   \n",
       "...                          ...                      ...           ...   \n",
       "5566326  2021-11-10 18:17:49.654  2021-11-10 18:24:40.643           410   \n",
       "5566327  2021-11-11 14:55:04.039  2021-11-11 14:59:41.446           277   \n",
       "5566328  2021-11-12 14:50:15.504  2021-11-12 15:05:37.379           921   \n",
       "5566329  2021-11-13 07:00:16.679  2021-11-13 07:15:10.760           894   \n",
       "5566330  2021-11-12 06:52:55.865  2021-11-12 07:10:43.917          1068   \n",
       "\n",
       "         is_member        date  max_temp_c  min_temp_c  total_precip_mm  \\\n",
       "0                0  2021-06-29        28.6        22.3              0.2   \n",
       "1                0  2021-04-25        16.9         1.4              2.4   \n",
       "2                1  2021-08-08        28.4        19.1              0.0   \n",
       "3                1  2021-10-11        21.7        13.8              0.0   \n",
       "4                1  2021-09-10        20.5        14.2              0.4   \n",
       "...            ...         ...         ...         ...              ...   \n",
       "5566326          1  2021-11-10        11.8         0.6              0.0   \n",
       "5566327          0  2021-11-11         8.5        -1.5              0.0   \n",
       "5566328          1  2021-11-12        10.8         3.4             21.8   \n",
       "5566329          1  2021-11-13         8.1         0.9              3.0   \n",
       "5566330          1  2021-11-12        10.8         3.4             21.8   \n",
       "\n",
       "         snow_on_grnd_cm  spd_of_max_gust_kmh  longitude_x  latitude_y  \n",
       "0                    0.0                 36.0       -73.74       45.47  \n",
       "1                    0.0                 50.0       -73.74       45.47  \n",
       "2                    0.0                 32.0       -73.74       45.47  \n",
       "3                    0.0                 49.0       -73.74       45.47  \n",
       "4                    0.0                 43.0       -73.74       45.47  \n",
       "...                  ...                  ...          ...         ...  \n",
       "5566326              0.0                 45.0       -73.74       45.47  \n",
       "5566327              0.0                 35.0       -73.74       45.47  \n",
       "5566328              0.0                 43.0       -73.74       45.47  \n",
       "5566329              0.0                 32.0       -73.74       45.47  \n",
       "5566330              0.0                 43.0       -73.74       45.47  \n",
       "\n",
       "[5566328 rows x 12 columns]"
      ]
     },
     "execution_count": 54,
     "metadata": {},
     "output_type": "execute_result"
    }
   ],
   "source": [
    "combined_data"
   ]
  },
  {
   "cell_type": "markdown",
   "id": "47f8a679-c1a4-4f76-a88d-601506f993b7",
   "metadata": {},
   "source": [
    "### Step 2: Handle Missing Values"
   ]
  },
  {
   "cell_type": "code",
   "execution_count": 55,
   "id": "92a7d70c-58b0-4739-b136-5ea6008c1f37",
   "metadata": {},
   "outputs": [
    {
     "name": "stdout",
     "output_type": "stream",
     "text": [
      "Missing Values:\n",
      " start_date             0\n",
      "end_date               0\n",
      "duration_sec           0\n",
      "is_member              0\n",
      "date                   0\n",
      "max_temp_c             0\n",
      "min_temp_c             0\n",
      "total_precip_mm        0\n",
      "snow_on_grnd_cm        0\n",
      "spd_of_max_gust_kmh    0\n",
      "longitude_x            0\n",
      "latitude_y             0\n",
      "dtype: int64\n"
     ]
    }
   ],
   "source": [
    "print(\"Missing Values:\\n\", combined_data.isnull().sum())"
   ]
  },
  {
   "cell_type": "code",
   "execution_count": 56,
   "id": "9d962e99-bedb-4802-a880-8deeaa6416f4",
   "metadata": {},
   "outputs": [],
   "source": [
    "import seaborn as sns\n",
    "import matplotlib.pyplot as plt"
   ]
  },
  {
   "cell_type": "markdown",
   "id": "9b45068d-783e-417f-b4da-a479dda58e79",
   "metadata": {},
   "source": [
    "### Step 3: Univariate Analysis"
   ]
  },
  {
   "cell_type": "code",
   "execution_count": 57,
   "id": "70842d17-2d29-4eca-8629-f8a884d69668",
   "metadata": {
    "scrolled": true
   },
   "outputs": [
    {
     "name": "stdout",
     "output_type": "stream",
     "text": [
      "count    5.566328e+06\n",
      "mean     8.618048e+02\n",
      "std      1.810836e+03\n",
      "min      1.000000e+00\n",
      "25%      3.660000e+02\n",
      "50%      6.420000e+02\n",
      "75%      1.091000e+03\n",
      "max      1.565260e+06\n",
      "Name: duration_sec, dtype: float64\n"
     ]
    }
   ],
   "source": [
    "print(combined_data['duration_sec'].describe())"
   ]
  },
  {
   "cell_type": "code",
   "execution_count": 58,
   "id": "aa520ea9-43fa-4b14-988e-fe92f06a5d05",
   "metadata": {},
   "outputs": [],
   "source": [
    "combined_data['log_duration_sec'] = np.log1p(combined_data['duration_sec'])"
   ]
  },
  {
   "cell_type": "code",
   "execution_count": 59,
   "id": "44a244eb-2b72-4916-b841-5248110c4574",
   "metadata": {},
   "outputs": [],
   "source": [
    "combined_data.loc[:, 'log_duration_sec'] = np.log1p(combined_data['duration_sec'])"
   ]
  },
  {
   "cell_type": "code",
   "execution_count": 60,
   "id": "78272c36-2d8b-4dc1-b55d-567c6d07ef0b",
   "metadata": {},
   "outputs": [],
   "source": [
    "combined_data = combined_data.copy()\n",
    "combined_data['log_duration_sec'] = np.log1p(combined_data['duration_sec'])"
   ]
  },
  {
   "cell_type": "code",
   "execution_count": 61,
   "id": "cb165ee0-7e57-4fee-84a4-6e9fdc9ec887",
   "metadata": {},
   "outputs": [
    {
     "data": {
      "image/png": "[encoded data removed]",
      "text/plain": [
       "<Figure size 640x480 with 1 Axes>"
      ]
     },
     "metadata": {},
     "output_type": "display_data"
    }
   ],
   "source": [
    "import numpy as np\n",
    "combined_data['log_duration_sec'] = np.log1p(combined_data['duration_sec'])\n",
    "combined_data['log_duration_sec'].hist(bins=30)\n",
    "plt.title(\"Log-Scaled Trip Duration Distribution\")\n",
    "plt.xlabel(\"Log(Duration) (seconds)\")\n",
    "plt.ylabel(\"Frequency\")\n",
    "plt.show()"
   ]
  },
  {
   "cell_type": "code",
   "execution_count": 62,
   "id": "5f2fc810-028d-423c-b945-cf31aa3f74f1",
   "metadata": {},
   "outputs": [
    {
     "name": "stdout",
     "output_type": "stream",
     "text": [
      "Short Trips Count: 179435\n"
     ]
    }
   ],
   "source": [
    "short_trips = combined_data[combined_data['duration_sec'] <= 120]\n",
    "print(\"Short Trips Count:\", short_trips.shape[0])"
   ]
  },
  {
   "cell_type": "code",
   "execution_count": 63,
   "id": "63a8d1e5-50ea-4348-8077-3bbc5a80a22e",
   "metadata": {},
   "outputs": [
    {
     "data": {
      "text/html": [
       "<div>\n",
       "<style scoped>\n",
       "    .dataframe tbody tr th:only-of-type {\n",
       "        vertical-align: middle;\n",
       "    }\n",
       "\n",
       "    .dataframe tbody tr th {\n",
       "        vertical-align: top;\n",
       "    }\n",
       "\n",
       "    .dataframe thead th {\n",
       "        text-align: right;\n",
       "    }\n",
       "</style>\n",
       "<table border=\"1\" class=\"dataframe\">\n",
       "  <thead>\n",
       "    <tr style=\"text-align: right;\">\n",
       "      <th></th>\n",
       "      <th>count</th>\n",
       "      <th>mean</th>\n",
       "      <th>std</th>\n",
       "      <th>min</th>\n",
       "      <th>25%</th>\n",
       "      <th>50%</th>\n",
       "      <th>75%</th>\n",
       "      <th>max</th>\n",
       "    </tr>\n",
       "    <tr>\n",
       "      <th>is_member</th>\n",
       "      <th></th>\n",
       "      <th></th>\n",
       "      <th></th>\n",
       "      <th></th>\n",
       "      <th></th>\n",
       "      <th></th>\n",
       "      <th></th>\n",
       "      <th></th>\n",
       "    </tr>\n",
       "  </thead>\n",
       "  <tbody>\n",
       "    <tr>\n",
       "      <th>0</th>\n",
       "      <td>978435.0</td>\n",
       "      <td>1153.731179</td>\n",
       "      <td>2964.422896</td>\n",
       "      <td>1.0</td>\n",
       "      <td>513.0</td>\n",
       "      <td>835.0</td>\n",
       "      <td>1363.0</td>\n",
       "      <td>1565260.0</td>\n",
       "    </tr>\n",
       "    <tr>\n",
       "      <th>1</th>\n",
       "      <td>4587893.0</td>\n",
       "      <td>799.547286</td>\n",
       "      <td>1443.007570</td>\n",
       "      <td>1.0</td>\n",
       "      <td>343.0</td>\n",
       "      <td>604.0</td>\n",
       "      <td>1032.0</td>\n",
       "      <td>1272209.0</td>\n",
       "    </tr>\n",
       "  </tbody>\n",
       "</table>\n",
       "</div>"
      ],
      "text/plain": [
       "               count         mean          std  min    25%    50%     75%  \\\n",
       "is_member                                                                   \n",
       "0           978435.0  1153.731179  2964.422896  1.0  513.0  835.0  1363.0   \n",
       "1          4587893.0   799.547286  1443.007570  1.0  343.0  604.0  1032.0   \n",
       "\n",
       "                 max  \n",
       "is_member             \n",
       "0          1565260.0  \n",
       "1          1272209.0  "
      ]
     },
     "execution_count": 63,
     "metadata": {},
     "output_type": "execute_result"
    }
   ],
   "source": [
    "combined_data.groupby('is_member')['duration_sec'].describe()"
   ]
  },
  {
   "cell_type": "code",
   "execution_count": 64,
   "id": "3c9addda-bd3c-466e-a1c0-aa82dac6a3b0",
   "metadata": {},
   "outputs": [
    {
     "name": "stdout",
     "output_type": "stream",
     "text": [
      "Filtered Data Shape: (5386893, 13)\n"
     ]
    }
   ],
   "source": [
    "combined_data = combined_data[combined_data['duration_sec'] > 120]\n",
    "print(\"Filtered Data Shape:\", combined_data.shape)"
   ]
  },
  {
   "cell_type": "code",
   "execution_count": 65,
   "id": "c244bad3-86a5-4971-b214-419bc55e42eb",
   "metadata": {},
   "outputs": [
    {
     "data": {
      "image/png": "[encoded data removed]",
      "text/plain": [
       "<Figure size 640x480 with 1 Axes>"
      ]
     },
     "metadata": {},
     "output_type": "display_data"
    }
   ],
   "source": [
    "combined_data['log_duration_sec'] = np.log1p(combined_data['duration_sec'])\n",
    "combined_data['log_duration_sec'].hist(bins=30)\n",
    "plt.title(\"Log-Scaled Trip Duration Distribution (Filtered)\")\n",
    "plt.xlabel(\"Log(Duration) (seconds)\")\n",
    "plt.ylabel(\"Frequency\")\n",
    "plt.show()"
   ]
  },
  {
   "cell_type": "code",
   "execution_count": 66,
   "id": "2202156d-924d-41ac-a47f-24a0487aae87",
   "metadata": {},
   "outputs": [
    {
     "name": "stdout",
     "output_type": "stream",
     "text": [
      "               count         mean          std    min    25%    50%     75%  \\\n",
      "is_member                                                                     \n",
      "0           961415.0  1173.185562  2986.903632  121.0  529.0  848.0  1376.0   \n",
      "1          4425478.0   826.387901  1462.287939  121.0  367.0  626.0  1054.0   \n",
      "\n",
      "                 max  \n",
      "is_member             \n",
      "0          1565260.0  \n",
      "1          1272209.0  \n"
     ]
    }
   ],
   "source": [
    "membership_stats = combined_data.groupby('is_member')['duration_sec'].describe()\n",
    "print(membership_stats)"
   ]
  },
  {
   "cell_type": "code",
   "execution_count": 67,
   "id": "fdfaec32-f025-4404-ae92-e80854398705",
   "metadata": {},
   "outputs": [
    {
     "data": {
      "image/png": "[encoded data removed]",
      "text/plain": [
       "<Figure size 640x480 with 1 Axes>"
      ]
     },
     "metadata": {},
     "output_type": "display_data"
    }
   ],
   "source": [
    "avg_duration_by_member = combined_data.groupby('is_member')['duration_sec'].mean()\n",
    "avg_duration_by_member.plot(kind='bar')\n",
    "plt.title(\"Average Trip Duration by Membership Status\")\n",
    "plt.xlabel(\"Membership Status\")\n",
    "plt.ylabel(\"Average Duration (seconds)\")\n",
    "plt.show()"
   ]
  },
  {
   "cell_type": "code",
   "execution_count": 68,
   "id": "5e6929f0-bad2-4000-91aa-3f1ccf4b2f63",
   "metadata": {},
   "outputs": [
    {
     "data": {
      "image/png": "[encoded data removed]",
      "text/plain": [
       "<Figure size 640x480 with 1 Axes>"
      ]
     },
     "metadata": {},
     "output_type": "display_data"
    }
   ],
   "source": [
    "plt.scatter(combined_data['max_temp_c'], combined_data['duration_sec'], alpha=0.5)\n",
    "plt.title(\"Trip Duration vs Max Temperature\")\n",
    "plt.xlabel(\"Max Temperature (°C)\")\n",
    "plt.ylabel(\"Trip Duration (seconds)\")\n",
    "plt.show()"
   ]
  },
  {
   "cell_type": "code",
   "execution_count": 69,
   "id": "447934e8-d842-4f0d-aec5-79e672c4bddf",
   "metadata": {},
   "outputs": [
    {
     "name": "stdout",
     "output_type": "stream",
     "text": [
      "Long Trips Count: 3176\n",
      "       duration_sec    is_member   max_temp_c   min_temp_c  total_precip_mm  \\\n",
      "count  3.176000e+03  3176.000000  3176.000000  3176.000000      3176.000000   \n",
      "mean   2.374051e+04     0.538098    21.620277    11.373426         1.462469   \n",
      "std    6.476075e+04     0.498625     6.742688     6.525997         4.501371   \n",
      "min    1.080100e+04     0.000000     3.700000    -3.600000         0.000000   \n",
      "25%    1.186050e+04     0.000000    17.700000     7.000000         0.000000   \n",
      "50%    1.358550e+04     1.000000    23.000000    12.400000         0.000000   \n",
      "75%    1.726675e+04     1.000000    26.300000    16.300000         0.400000   \n",
      "max    1.565260e+06     1.000000    34.000000    24.000000        38.000000   \n",
      "\n",
      "       snow_on_grnd_cm  spd_of_max_gust_kmh  longitude_x    latitude_y  \\\n",
      "count      3176.000000          3176.000000      3176.00  3.176000e+03   \n",
      "mean          0.010076            42.416247       -73.74  4.547000e+01   \n",
      "std           0.141619             8.986109         0.00  1.421309e-14   \n",
      "min           0.000000            31.000000       -73.74  4.547000e+01   \n",
      "25%           0.000000            35.000000       -73.74  4.547000e+01   \n",
      "50%           0.000000            40.000000       -73.74  4.547000e+01   \n",
      "75%           0.000000            49.000000       -73.74  4.547000e+01   \n",
      "max           2.000000            91.000000       -73.74  4.547000e+01   \n",
      "\n",
      "       log_duration_sec  \n",
      "count       3176.000000  \n",
      "mean           9.717404  \n",
      "std            0.583728  \n",
      "min            9.287487  \n",
      "25%            9.381053  \n",
      "50%            9.516832  \n",
      "75%            9.756596  \n",
      "max           14.263563  \n"
     ]
    }
   ],
   "source": [
    "long_trips = combined_data[combined_data['duration_sec'] > 10800]\n",
    "print(\"Long Trips Count:\", long_trips.shape[0])\n",
    "print(long_trips.describe())"
   ]
  },
  {
   "cell_type": "code",
   "execution_count": 70,
   "id": "7ced4bd6-6f28-4ce6-a3e8-70a91aa6093f",
   "metadata": {},
   "outputs": [
    {
     "data": {
      "image/png": "[encoded data removed]",
      "text/plain": [
       "<Figure size 1200x600 with 1 Axes>"
      ]
     },
     "metadata": {},
     "output_type": "display_data"
    }
   ],
   "source": [
    "daily_trips = combined_data.groupby('date')['duration_sec'].count()\n",
    "daily_trips.plot(figsize=(12, 6))\n",
    "plt.title(\"Number of Trips Over Time\")\n",
    "plt.xlabel(\"Date\")\n",
    "plt.ylabel(\"Number of Trips\")\n",
    "plt.show()"
   ]
  },
  {
   "cell_type": "code",
   "execution_count": 71,
   "id": "fe06a7ad-05af-4502-9f67-37c2c785bd21",
   "metadata": {},
   "outputs": [
    {
     "data": {
      "image/png": "[encoded data removed]",
      "text/plain": [
       "<Figure size 640x480 with 1 Axes>"
      ]
     },
     "metadata": {},
     "output_type": "display_data"
    }
   ],
   "source": [
    "trip_counts_by_member = combined_data['is_member'].value_counts()\n",
    "trip_counts_by_member.plot(kind='bar')\n",
    "plt.title(\"Trip Counts by Membership Status\")\n",
    "plt.xlabel(\"Membership Status\")\n",
    "plt.ylabel(\"Number of Trips\")\n",
    "plt.show()"
   ]
  },
  {
   "cell_type": "code",
   "execution_count": 72,
   "id": "72ae05d5-44ab-49bf-80ee-2a8e6d5e199c",
   "metadata": {},
   "outputs": [
    {
     "data": {
      "image/png": "[encoded data removed]",
      "text/plain": [
       "<Figure size 1000x600 with 1 Axes>"
      ]
     },
     "metadata": {},
     "output_type": "display_data"
    }
   ],
   "source": [
    "avg_duration_temp = combined_data.groupby(['is_member', 'max_temp_c'])['duration_sec'].mean().unstack(0)\n",
    "avg_duration_temp.plot(kind='line', figsize=(10, 6))\n",
    "plt.title(\"Average Trip Duration by Temperature and Membership Status\")\n",
    "plt.xlabel(\"Max Temperature (°C)\")\n",
    "plt.ylabel(\"Average Duration (seconds)\")\n",
    "plt.legend([\"Non-Member\", \"Member\"])\n",
    "plt.show()"
   ]
  },
  {
   "cell_type": "code",
   "execution_count": 73,
   "id": "76315406-f72f-47d1-bf9e-12751a94b930",
   "metadata": {},
   "outputs": [
    {
     "name": "stdout",
     "output_type": "stream",
     "text": [
      "T-Statistic: 110.99116522529486\n",
      "P-Value: 0.0\n"
     ]
    }
   ],
   "source": [
    "from scipy.stats import ttest_ind\n",
    "\n",
    "non_member_durations = combined_data[combined_data['is_member'] == 0]['duration_sec']\n",
    "member_durations = combined_data[combined_data['is_member'] == 1]['duration_sec']\n",
    "\n",
    "t_stat, p_value = ttest_ind(non_member_durations, member_durations, equal_var=False)\n",
    "print(\"T-Statistic:\", t_stat)\n",
    "print(\"P-Value:\", p_value)"
   ]
  },
  {
   "cell_type": "code",
   "execution_count": 74,
   "id": "56b81f5d-810b-4a31-9a08-d723829a1c43",
   "metadata": {},
   "outputs": [
    {
     "name": "stdout",
     "output_type": "stream",
     "text": [
      "Filtered Data Shape: (5386893, 13)\n"
     ]
    }
   ],
   "source": [
    "combined_data = combined_data[combined_data['duration_sec'] > 120]\n",
    "print(\"Filtered Data Shape:\", combined_data.shape)"
   ]
  },
  {
   "cell_type": "code",
   "execution_count": 75,
   "id": "cfa1f8bd-d890-4e61-a85d-4dddea3eb035",
   "metadata": {},
   "outputs": [
    {
     "data": {
      "image/png": "[encoded data removed]",
      "text/plain": [
       "<Figure size 640x480 with 1 Axes>"
      ]
     },
     "metadata": {},
     "output_type": "display_data"
    }
   ],
   "source": [
    "combined_data['log_duration_sec'] = np.log1p(combined_data['duration_sec'])\n",
    "combined_data['log_duration_sec'].hist(bins=30)\n",
    "plt.title(\"Log-Scaled Trip Duration Distribution (Filtered)\")\n",
    "plt.xlabel(\"Log(Duration) (seconds)\")\n",
    "plt.ylabel(\"Frequency\")\n",
    "plt.show()"
   ]
  },
  {
   "cell_type": "code",
   "execution_count": 76,
   "id": "2b4db72a-0569-4ba9-9847-229c38926784",
   "metadata": {},
   "outputs": [
    {
     "name": "stdout",
     "output_type": "stream",
     "text": [
      "               count         mean          std    min    25%    50%     75%  \\\n",
      "is_member                                                                     \n",
      "0           961415.0  1173.185562  2986.903632  121.0  529.0  848.0  1376.0   \n",
      "1          4425478.0   826.387901  1462.287939  121.0  367.0  626.0  1054.0   \n",
      "\n",
      "                 max  \n",
      "is_member             \n",
      "0          1565260.0  \n",
      "1          1272209.0  \n"
     ]
    }
   ],
   "source": [
    "membership_stats = combined_data.groupby('is_member')['duration_sec'].describe()\n",
    "print(membership_stats)"
   ]
  },
  {
   "cell_type": "code",
   "execution_count": 77,
   "id": "da45e5a4-2526-42c4-b0fa-e961cb0a4acb",
   "metadata": {},
   "outputs": [
    {
     "data": {
      "image/png": "[encoded data removed]",
      "text/plain": [
       "<Figure size 640x480 with 1 Axes>"
      ]
     },
     "metadata": {},
     "output_type": "display_data"
    }
   ],
   "source": [
    "avg_duration_by_member = combined_data.groupby('is_member')['duration_sec'].mean()\n",
    "avg_duration_by_member.plot(kind='bar')\n",
    "plt.title(\"Average Trip Duration by Membership Status\")\n",
    "plt.xlabel(\"Membership Status\")\n",
    "plt.ylabel(\"Average Duration (seconds)\")\n",
    "plt.show()"
   ]
  },
  {
   "cell_type": "code",
   "execution_count": 78,
   "id": "4ade912e-1729-4ed5-b159-6b1d282a37f4",
   "metadata": {},
   "outputs": [
    {
     "data": {
      "image/png": "[encoded data removed]",
      "text/plain": [
       "<Figure size 640x480 with 1 Axes>"
      ]
     },
     "metadata": {},
     "output_type": "display_data"
    }
   ],
   "source": [
    "combined_data[combined_data['is_member'] == 1]['duration_sec'].hist(alpha=0.5, label='Member', bins=30)\n",
    "combined_data[combined_data['is_member'] == 0]['duration_sec'].hist(alpha=0.5, label='Non-Member', bins=30)\n",
    "plt.title(\"Trip Duration Distribution by Membership\")\n",
    "plt.xlabel(\"Duration (seconds)\")\n",
    "plt.ylabel(\"Frequency\")\n",
    "plt.legend()\n",
    "plt.show()"
   ]
  },
  {
   "cell_type": "code",
   "execution_count": 79,
   "id": "9406828f-e28a-412c-93cd-69034f2500ad",
   "metadata": {},
   "outputs": [
    {
     "data": {
      "image/png": "[encoded data removed]",
      "text/plain": [
       "<Figure size 640x480 with 1 Axes>"
      ]
     },
     "metadata": {},
     "output_type": "display_data"
    }
   ],
   "source": [
    "plt.scatter(combined_data['max_temp_c'], combined_data['duration_sec'], alpha=0.5)\n",
    "plt.title(\"Trip Duration vs Max Temperature\")\n",
    "plt.xlabel(\"Max Temperature (°C)\")\n",
    "plt.ylabel(\"Trip Duration (seconds)\")\n",
    "plt.show()"
   ]
  },
  {
   "cell_type": "code",
   "execution_count": 80,
   "id": "dfdcc70e-e133-4d12-82be-fb9f8389d080",
   "metadata": {},
   "outputs": [
    {
     "data": {
      "image/png": "[encoded data removed]",
      "text/plain": [
       "<Figure size 640x480 with 1 Axes>"
      ]
     },
     "metadata": {},
     "output_type": "display_data"
    }
   ],
   "source": [
    "plt.scatter(combined_data['total_precip_mm'], combined_data['duration_sec'], alpha=0.5)\n",
    "plt.title(\"Trip Duration vs Total Precipitation\")\n",
    "plt.xlabel(\"Total Precipitation (mm)\")\n",
    "plt.ylabel(\"Trip Duration (seconds)\")\n",
    "plt.show()"
   ]
  },
  {
   "cell_type": "code",
   "execution_count": 81,
   "id": "7b9e88e9-7ba4-4777-804c-d0c023e14392",
   "metadata": {},
   "outputs": [
    {
     "data": {
      "image/png": "[encoded data removed]",
      "text/plain": [
       "<Figure size 640x480 with 1 Axes>"
      ]
     },
     "metadata": {},
     "output_type": "display_data"
    }
   ],
   "source": [
    "sns.boxplot(x=combined_data['snow_on_grnd_cm'], y=combined_data['duration_sec'])\n",
    "plt.title(\"Trip Duration by Snow on Ground\")\n",
    "plt.xlabel(\"Snow on Ground (cm)\")\n",
    "plt.ylabel(\"Trip Duration (seconds)\")\n",
    "plt.show()"
   ]
  },
  {
   "cell_type": "code",
   "execution_count": 82,
   "id": "492e26ec-c4cc-4954-9ef8-4093d88b0d8b",
   "metadata": {},
   "outputs": [
    {
     "name": "stdout",
     "output_type": "stream",
     "text": [
      "start_date              object\n",
      "end_date                object\n",
      "duration_sec             int64\n",
      "is_member                int64\n",
      "date                    object\n",
      "max_temp_c             float64\n",
      "min_temp_c             float64\n",
      "total_precip_mm        float64\n",
      "snow_on_grnd_cm        float64\n",
      "spd_of_max_gust_kmh    float64\n",
      "longitude_x            float64\n",
      "latitude_y             float64\n",
      "log_duration_sec       float64\n",
      "dtype: object\n"
     ]
    }
   ],
   "source": [
    "print(combined_data.dtypes)"
   ]
  },
  {
   "cell_type": "code",
   "execution_count": 83,
   "id": "3b4a2bdd-4b63-4989-bac4-ae70b922b65b",
   "metadata": {},
   "outputs": [
    {
     "name": "stdout",
     "output_type": "stream",
     "text": [
      "   longitude_x  latitude_y  trip_count\n",
      "0       -73.74       45.47     5386893\n"
     ]
    }
   ],
   "source": [
    "start_location_counts = combined_data.groupby(['longitude_x', 'latitude_y']).size().reset_index(name='trip_count')\n",
    "print(start_location_counts.head())"
   ]
  },
  {
   "cell_type": "code",
   "execution_count": 84,
   "id": "558a22b0-a7de-4428-9d4d-6142d688259a",
   "metadata": {},
   "outputs": [
    {
     "data": {
      "image/png": "[encoded data removed]",
      "text/plain": [
       "<Figure size 1200x600 with 1 Axes>"
      ]
     },
     "metadata": {},
     "output_type": "display_data"
    }
   ],
   "source": [
    "daily_trips = combined_data.groupby('date')['duration_sec'].count()\n",
    "daily_trips.plot(figsize=(12, 6))\n",
    "plt.title(\"Number of Trips Over Time\")\n",
    "plt.xlabel(\"Date\")\n",
    "plt.ylabel(\"Number of Trips\")\n",
    "plt.show()"
   ]
  },
  {
   "cell_type": "code",
   "execution_count": 85,
   "id": "c719f64a-72f9-4c1e-9c74-8d13930000a7",
   "metadata": {},
   "outputs": [
    {
     "data": {
      "image/png": "[encoded data removed]",
      "text/plain": [
       "<Figure size 640x480 with 1 Axes>"
      ]
     },
     "metadata": {},
     "output_type": "display_data"
    }
   ],
   "source": [
    "combined_data['month'] = pd.to_datetime(combined_data['date']).dt.month\n",
    "monthly_trips = combined_data.groupby('month')['duration_sec'].count()\n",
    "monthly_trips.plot(kind='bar')\n",
    "plt.title(\"Monthly Trip Counts\")\n",
    "plt.xlabel(\"Month\")\n",
    "plt.ylabel(\"Number of Trips\")\n",
    "plt.show()"
   ]
  },
  {
   "cell_type": "code",
   "execution_count": 86,
   "id": "a99ccd7c-583b-4471-9e5d-c44eebf2e015",
   "metadata": {},
   "outputs": [
    {
     "data": {
      "image/png": "[encoded data removed]",
      "text/plain": [
       "<Figure size 640x480 with 1 Axes>"
      ]
     },
     "metadata": {},
     "output_type": "display_data"
    }
   ],
   "source": [
    "combined_data['day_of_week'] = pd.to_datetime(combined_data['date']).dt.day_name()\n",
    "avg_trips_by_day = combined_data.groupby('day_of_week')['duration_sec'].mean()\n",
    "avg_trips_by_day.plot(kind='bar')\n",
    "plt.title(\"Average Trip Duration by Day of the Week\")\n",
    "plt.xlabel(\"Day of the Week\")\n",
    "plt.ylabel(\"Average Trip Duration (seconds)\")\n",
    "plt.show()"
   ]
  },
  {
   "cell_type": "markdown",
   "id": "ed801fea-f3a6-42d4-b809-14e5b46e72be",
   "metadata": {},
   "source": [
    "### Step 4: Document Findings"
   ]
  },
  {
   "cell_type": "code",
   "execution_count": 87,
   "id": "a7c79c98-40e4-4b18-a24c-edc91ade1714",
   "metadata": {},
   "outputs": [],
   "source": [
    "combined_data.to_csv(\"BikeML/data/refined_combined_data.csv\", index=False)"
   ]
  },
  {
   "cell_type": "code",
   "execution_count": 88,
   "id": "0f71959d-bc7d-4c9a-9e6a-2e0a6c2b2367",
   "metadata": {},
   "outputs": [
    {
     "data": {
      "text/plain": [
       "<Figure size 640x480 with 0 Axes>"
      ]
     },
     "metadata": {},
     "output_type": "display_data"
    }
   ],
   "source": [
    "plt.savefig(\"trip_duration_vs_temperature.png\")"
   ]
  },
  {
   "cell_type": "code",
   "execution_count": 89,
   "id": "907625a3-9417-4543-9059-7798d3ff9718",
   "metadata": {},
   "outputs": [
    {
     "name": "stdout",
     "output_type": "stream",
     "text": [
      "True\n"
     ]
    }
   ],
   "source": [
    "import os\n",
    "print(os.path.exists(\"BikeML/data/refined_combined_data.csv\"))"
   ]
  },
  {
   "cell_type": "markdown",
   "id": "cdc8a518-1e73-46cd-b2ae-2d7ad38c63aa",
   "metadata": {},
   "source": [
    "## Phase 4: Feature Engineering"
   ]
  },
  {
   "cell_type": "markdown",
   "id": "c6e70da7-3019-4d81-8294-a1f64b920789",
   "metadata": {},
   "source": [
    "### Step 1: Add Time-Based Features"
   ]
  },
  {
   "cell_type": "code",
   "execution_count": 90,
   "id": "2f1b4e47-f601-4db7-b9ac-de96b9223d3f",
   "metadata": {},
   "outputs": [],
   "source": [
    "combined_data['start_date'] = pd.to_datetime(combined_data['start_date'])"
   ]
  },
  {
   "cell_type": "code",
   "execution_count": 91,
   "id": "18014bac-438f-4b3a-9a10-0960f2514891",
   "metadata": {},
   "outputs": [],
   "source": [
    "combined_data['start_hour'] = combined_data['start_date'].dt.hour  # Hour of the trip\n",
    "combined_data['start_day'] = combined_data['start_date'].dt.day  # Day of the month\n",
    "combined_data['start_month'] = combined_data['start_date'].dt.month  # Month\n",
    "combined_data['start_weekday'] = combined_data['start_date'].dt.dayofweek  # 0=Monday, 6=Sunday"
   ]
  },
  {
   "cell_type": "code",
   "execution_count": 92,
   "id": "14b522b8-e1cd-4074-b5bb-44edf98ebe81",
   "metadata": {},
   "outputs": [],
   "source": [
    "combined_data['is_weekend'] = combined_data['start_weekday'].isin([5, 6]).astype(int)"
   ]
  },
  {
   "cell_type": "code",
   "execution_count": 93,
   "id": "6dc10fd7-926b-4f78-ae74-8dded9768ae2",
   "metadata": {},
   "outputs": [],
   "source": [
    "combined_data['duration_min'] = combined_data['duration_sec'] / 60"
   ]
  },
  {
   "cell_type": "code",
   "execution_count": 94,
   "id": "a9f4d2d2-b4e3-4c1b-b89b-368f4cbaedcd",
   "metadata": {},
   "outputs": [],
   "source": [
    "### Step 2: Add Weather-Related Features"
   ]
  },
  {
   "cell_type": "code",
   "execution_count": 95,
   "id": "0c4ac169-e296-4f61-a34f-e8597b0461e8",
   "metadata": {},
   "outputs": [],
   "source": [
    "combined_data['temp_range_c'] = combined_data['max_temp_c'] - combined_data['min_temp_c']"
   ]
  },
  {
   "cell_type": "code",
   "execution_count": 96,
   "id": "579f2c43-0aee-4ef0-9c99-ba7c646d21cb",
   "metadata": {},
   "outputs": [],
   "source": [
    "combined_data['is_snowy'] = (combined_data['snow_on_grnd_cm'] > 0).astype(int)"
   ]
  },
  {
   "cell_type": "code",
   "execution_count": 97,
   "id": "b46f55a9-cb20-43ff-939c-77f72814762e",
   "metadata": {},
   "outputs": [],
   "source": [
    "combined_data['is_windy'] = (combined_data['spd_of_max_gust_kmh'] > 30).astype(int)  # Adjust threshold as needed"
   ]
  },
  {
   "cell_type": "code",
   "execution_count": 98,
   "id": "0be84245-6830-49df-8985-96c63a950c5d",
   "metadata": {},
   "outputs": [],
   "source": [
    "def categorize_temperature(temp):\n",
    "    if temp < 5:\n",
    "        return 'cold'\n",
    "    elif temp < 20:\n",
    "        return 'mild'\n",
    "    else:\n",
    "        return 'hot'\n",
    "\n",
    "combined_data['temp_category'] = combined_data['max_temp_c'].apply(categorize_temperature)"
   ]
  },
  {
   "cell_type": "markdown",
   "id": "931b824e-3fe9-4ff9-892c-8fdb7c74a22c",
   "metadata": {},
   "source": [
    "### Step 3: Add Membership-Based Features"
   ]
  },
  {
   "cell_type": "code",
   "execution_count": 99,
   "id": "6f4df6ba-9fd7-4b34-abd1-3d75e2d9a156",
   "metadata": {},
   "outputs": [
    {
     "name": "stdout",
     "output_type": "stream",
     "text": [
      "is_member\n",
      "0    1173.185562\n",
      "1     826.387901\n",
      "Name: duration_sec, dtype: float64\n"
     ]
    }
   ],
   "source": [
    "membership_agg = combined_data.groupby('is_member')['duration_sec'].mean()\n",
    "print(membership_agg)"
   ]
  },
  {
   "cell_type": "code",
   "execution_count": 100,
   "id": "205cddc4-2ce9-4692-97f2-d589215108ea",
   "metadata": {},
   "outputs": [],
   "source": [
    "combined_data['is_rainy'] = (combined_data['total_precip_mm'] > 0).astype(int)"
   ]
  },
  {
   "cell_type": "code",
   "execution_count": 101,
   "id": "7d3313cb-006c-4ba1-ad76-c966761c3ccd",
   "metadata": {},
   "outputs": [
    {
     "name": "stdout",
     "output_type": "stream",
     "text": [
      "Index(['start_date', 'end_date', 'duration_sec', 'is_member', 'date',\n",
      "       'max_temp_c', 'min_temp_c', 'total_precip_mm', 'snow_on_grnd_cm',\n",
      "       'spd_of_max_gust_kmh', 'longitude_x', 'latitude_y', 'log_duration_sec',\n",
      "       'month', 'day_of_week', 'start_hour', 'start_day', 'start_month',\n",
      "       'start_weekday', 'is_weekend', 'duration_min', 'temp_range_c',\n",
      "       'is_snowy', 'is_windy', 'temp_category', 'is_rainy'],\n",
      "      dtype='object')\n"
     ]
    }
   ],
   "source": [
    "print(combined_data.columns)"
   ]
  },
  {
   "cell_type": "code",
   "execution_count": 102,
   "id": "990bcbdb-5627-445b-ade4-8d6a8055e7c2",
   "metadata": {},
   "outputs": [],
   "source": [
    "combined_data['member_rainy_trip'] = combined_data['is_member'] * combined_data['is_rainy']"
   ]
  },
  {
   "cell_type": "code",
   "execution_count": 103,
   "id": "9626bdaf-9b70-434c-866b-0531cd696063",
   "metadata": {},
   "outputs": [
    {
     "name": "stdout",
     "output_type": "stream",
     "text": [
      "   is_member  is_rainy  member_rainy_trip\n",
      "0          0         1                  0\n",
      "1          0         1                  0\n",
      "2          1         0                  0\n",
      "3          1         0                  0\n",
      "4          1         1                  1\n"
     ]
    }
   ],
   "source": [
    "print(combined_data[['is_member', 'is_rainy', 'member_rainy_trip']].head())"
   ]
  },
  {
   "cell_type": "code",
   "execution_count": 104,
   "id": "cbb5e9c4-40c1-406e-81e6-1299699f9cf4",
   "metadata": {},
   "outputs": [
    {
     "name": "stdout",
     "output_type": "stream",
     "text": [
      "Index(['start_date', 'end_date', 'duration_sec', 'is_member', 'date',\n",
      "       'max_temp_c', 'min_temp_c', 'total_precip_mm', 'snow_on_grnd_cm',\n",
      "       'spd_of_max_gust_kmh', 'longitude_x', 'latitude_y', 'log_duration_sec',\n",
      "       'month', 'day_of_week', 'start_hour', 'start_day', 'start_month',\n",
      "       'start_weekday', 'is_weekend', 'duration_min', 'temp_range_c',\n",
      "       'is_snowy', 'is_windy', 'temp_category', 'is_rainy',\n",
      "       'member_rainy_trip'],\n",
      "      dtype='object')\n"
     ]
    }
   ],
   "source": [
    "print(combined_data.columns)"
   ]
  },
  {
   "cell_type": "code",
   "execution_count": 105,
   "id": "2b777680-67f9-4252-bd79-707782777c3d",
   "metadata": {},
   "outputs": [],
   "source": [
    "combined_data.columns = combined_data.columns.str.strip()"
   ]
  },
  {
   "cell_type": "code",
   "execution_count": 106,
   "id": "e5f5b65b-ba00-4bec-a1ce-3316145997dc",
   "metadata": {},
   "outputs": [],
   "source": [
    "combined_data['member_rainy_trip'] = combined_data['is_member'] * combined_data['is_rainy']"
   ]
  },
  {
   "cell_type": "markdown",
   "id": "e4bdc4e6-31a9-4e04-b7b0-cdc69ba30e35",
   "metadata": {},
   "source": [
    "### Step 4: Add Spatial Features"
   ]
  },
  {
   "cell_type": "code",
   "execution_count": 107,
   "id": "9701ce34-9f18-4327-9019-03da96e89a34",
   "metadata": {},
   "outputs": [],
   "source": [
    "location_counts = combined_data.groupby(['longitude_x', 'latitude_y']).size().reset_index(name='trip_count')"
   ]
  },
  {
   "cell_type": "code",
   "execution_count": 108,
   "id": "0c0ee81f-c969-4db3-9204-6b60d642eb4a",
   "metadata": {},
   "outputs": [],
   "source": [
    "combined_data = combined_data.merge(location_counts, on=['longitude_x', 'latitude_y'], how='left')"
   ]
  },
  {
   "cell_type": "code",
   "execution_count": 109,
   "id": "d4365cc4-ef21-4a64-be3d-fcb70be1b867",
   "metadata": {},
   "outputs": [],
   "source": [
    "from math import radians, cos, sin, sqrt"
   ]
  },
  {
   "cell_type": "code",
   "execution_count": 110,
   "id": "229ffc68-3b7e-463b-828b-8c82ea1f0784",
   "metadata": {},
   "outputs": [],
   "source": [
    "def compute_distance(lat, lon, center_lat=45.5017, center_lon=-73.5673):\n",
    "    # Haversine formula to calculate distance\n",
    "    lat, lon, center_lat, center_lon = map(radians, [lat, lon, center_lat, center_lon])\n",
    "    dlat = center_lat - lat\n",
    "    dlon = center_lon - lon\n",
    "    a = sin(dlat / 2) ** 2 + cos(lat) * cos(center_lat) * sin(dlon / 2) ** 2\n",
    "    c = 2 * sqrt(a)\n",
    "    distance = 6371 * c  # Radius of Earth in kilometers\n",
    "    return distance\n",
    "\n",
    "combined_data['distance_from_center_km'] = combined_data.apply(\n",
    "    lambda row: compute_distance(row['latitude_y'], row['longitude_x']), axis=1\n",
    ")"
   ]
  },
  {
   "cell_type": "code",
   "execution_count": 111,
   "id": "c844292e-701d-43cb-8d8c-4c47e7c3de8e",
   "metadata": {
    "scrolled": true
   },
   "outputs": [
    {
     "name": "stdout",
     "output_type": "stream",
     "text": [
      "start_date                 0\n",
      "end_date                   0\n",
      "duration_sec               0\n",
      "is_member                  0\n",
      "date                       0\n",
      "max_temp_c                 0\n",
      "min_temp_c                 0\n",
      "total_precip_mm            0\n",
      "snow_on_grnd_cm            0\n",
      "spd_of_max_gust_kmh        0\n",
      "longitude_x                0\n",
      "latitude_y                 0\n",
      "log_duration_sec           0\n",
      "month                      0\n",
      "day_of_week                0\n",
      "start_hour                 0\n",
      "start_day                  0\n",
      "start_month                0\n",
      "start_weekday              0\n",
      "is_weekend                 0\n",
      "duration_min               0\n",
      "temp_range_c               0\n",
      "is_snowy                   0\n",
      "is_windy                   0\n",
      "temp_category              0\n",
      "is_rainy                   0\n",
      "member_rainy_trip          0\n",
      "trip_count                 0\n",
      "distance_from_center_km    0\n",
      "dtype: int64\n"
     ]
    }
   ],
   "source": [
    "print(combined_data.isnull().sum())"
   ]
  },
  {
   "cell_type": "code",
   "execution_count": 112,
   "id": "42723866-8c12-4d57-be42-8ed227e471d1",
   "metadata": {
    "scrolled": true
   },
   "outputs": [
    {
     "name": "stdout",
     "output_type": "stream",
     "text": [
      "               start_date                 end_date  duration_sec  is_member  \\\n",
      "0 2021-06-29 17:46:28.653  2021-06-29 19:33:25.700          6417          0   \n",
      "1 2021-04-25 18:02:39.110  2021-04-25 18:13:26.139           647          0   \n",
      "2 2021-08-08 18:50:31.633  2021-08-08 18:58:57.585           505          1   \n",
      "3 2021-10-11 17:50:15.346  2021-10-11 18:25:31.726          2116          1   \n",
      "4 2021-09-10 15:51:58.050  2021-09-10 16:21:01.403          1743          1   \n",
      "\n",
      "         date  max_temp_c  min_temp_c  total_precip_mm  snow_on_grnd_cm  \\\n",
      "0  2021-06-29        28.6        22.3              0.2              0.0   \n",
      "1  2021-04-25        16.9         1.4              2.4              0.0   \n",
      "2  2021-08-08        28.4        19.1              0.0              0.0   \n",
      "3  2021-10-11        21.7        13.8              0.0              0.0   \n",
      "4  2021-09-10        20.5        14.2              0.4              0.0   \n",
      "\n",
      "   spd_of_max_gust_kmh  ...  is_weekend  duration_min  temp_range_c  is_snowy  \\\n",
      "0                 36.0  ...           0    106.950000           6.3         0   \n",
      "1                 50.0  ...           1     10.783333          15.5         0   \n",
      "2                 32.0  ...           1      8.416667           9.3         0   \n",
      "3                 49.0  ...           0     35.266667           7.9         0   \n",
      "4                 43.0  ...           0     29.050000           6.3         0   \n",
      "\n",
      "  is_windy  temp_category  is_rainy  member_rainy_trip  trip_count  \\\n",
      "0        1            hot         1                  0     5386893   \n",
      "1        1           mild         1                  0     5386893   \n",
      "2        1            hot         0                  0     5386893   \n",
      "3        1            hot         0                  0     5386893   \n",
      "4        1            hot         1                  1     5386893   \n",
      "\n",
      "   distance_from_center_km  \n",
      "0                13.916979  \n",
      "1                13.916979  \n",
      "2                13.916979  \n",
      "3                13.916979  \n",
      "4                13.916979  \n",
      "\n",
      "[5 rows x 29 columns]\n"
     ]
    }
   ],
   "source": [
    "print(combined_data.head())"
   ]
  },
  {
   "cell_type": "code",
   "execution_count": 113,
   "id": "52e683b5-9cff-4ba8-aee1-2f420e275751",
   "metadata": {},
   "outputs": [],
   "source": [
    "combined_data.to_csv(\"BikeML/data/refined_combined_data_with_features.csv\", index=False)"
   ]
  },
  {
   "cell_type": "markdown",
   "id": "09880ecf-730d-4ab4-87f0-c49e7c1691f3",
   "metadata": {},
   "source": [
    "## Phase 5: Model Development"
   ]
  },
  {
   "cell_type": "markdown",
   "id": "dbbf7272-ee0d-4921-b0bd-83cd77713b7e",
   "metadata": {},
   "source": [
    "### Step 1: Define the Problem"
   ]
  },
  {
   "cell_type": "code",
   "execution_count": 114,
   "id": "5b7fdd3b-820e-4ef2-b6e4-ea857e2fd550",
   "metadata": {},
   "outputs": [],
   "source": [
    "# Predicting Trip Duration"
   ]
  },
  {
   "cell_type": "markdown",
   "id": "26c8b13e-1199-48bb-af7a-56f6024bcef2",
   "metadata": {},
   "source": [
    "### Step 2: Split the Dataset"
   ]
  },
  {
   "cell_type": "code",
   "execution_count": 115,
   "id": "0f39c557-0d62-43b6-a57c-77f00f803732",
   "metadata": {},
   "outputs": [],
   "source": [
    "features = [\n",
    "    'max_temp_c', 'min_temp_c', 'temp_range_c', 'total_precip_mm',\n",
    "    'snow_on_grnd_cm', 'spd_of_max_gust_kmh', 'is_rainy', 'is_snowy',\n",
    "    'is_windy', 'start_hour', 'start_weekday', 'is_weekend',\n",
    "    'longitude_x', 'latitude_y'\n",
    "]\n",
    "target = 'duration_sec'"
   ]
  },
  {
   "cell_type": "code",
   "execution_count": 116,
   "id": "23f81019-1f22-465d-8195-9d19aaee0483",
   "metadata": {},
   "outputs": [],
   "source": [
    "from sklearn.model_selection import train_test_split\n",
    "from sklearn.linear_model import LinearRegression\n",
    "from sklearn.tree import DecisionTreeRegressor\n",
    "from sklearn.ensemble import RandomForestRegressor"
   ]
  },
  {
   "cell_type": "code",
   "execution_count": 117,
   "id": "b62ac908-0944-492f-b9b3-0b8285056088",
   "metadata": {},
   "outputs": [],
   "source": [
    "from xgboost import XGBRegressor\n",
    "from sklearn.metrics import mean_absolute_error, mean_squared_error, r2_score"
   ]
  },
  {
   "cell_type": "code",
   "execution_count": 118,
   "id": "d285167f-6385-406f-b42c-4234f152ab6a",
   "metadata": {},
   "outputs": [],
   "source": [
    "X = combined_data[features]\n",
    "y = combined_data[target]"
   ]
  },
  {
   "cell_type": "code",
   "execution_count": 119,
   "id": "12c2829a-5814-4e7e-b494-2a4f17c48bbd",
   "metadata": {},
   "outputs": [],
   "source": [
    "X_train, X_test, y_train, y_test = train_test_split(X, y, test_size=0.2, random_state=42)"
   ]
  },
  {
   "cell_type": "markdown",
   "id": "9e9afd47-2850-4276-8fef-5a181b37c07f",
   "metadata": {},
   "source": [
    "### Step 3: Train Multiple Models"
   ]
  },
  {
   "cell_type": "code",
   "execution_count": 120,
   "id": "ac3ee943-2aa2-4886-88f8-cfd9eab38329",
   "metadata": {},
   "outputs": [
    {
     "data": {
      "text/html": [
       "<style>#sk-container-id-1 {\n",
       "  /* Definition of color scheme common for light and dark mode */\n",
       "  --sklearn-color-text: black;\n",
       "  --sklearn-color-line: gray;\n",
       "  /* Definition of color scheme for unfitted estimators */\n",
       "  --sklearn-color-unfitted-level-0: #fff5e6;\n",
       "  --sklearn-color-unfitted-level-1: #f6e4d2;\n",
       "  --sklearn-color-unfitted-level-2: #ffe0b3;\n",
       "  --sklearn-color-unfitted-level-3: chocolate;\n",
       "  /* Definition of color scheme for fitted estimators */\n",
       "  --sklearn-color-fitted-level-0: #f0f8ff;\n",
       "  --sklearn-color-fitted-level-1: #d4ebff;\n",
       "  --sklearn-color-fitted-level-2: #b3dbfd;\n",
       "  --sklearn-color-fitted-level-3: cornflowerblue;\n",
       "\n",
       "  /* Specific color for light theme */\n",
       "  --sklearn-color-text-on-default-background: var(--sg-text-color, var(--theme-code-foreground, var(--jp-content-font-color1, black)));\n",
       "  --sklearn-color-background: var(--sg-background-color, var(--theme-background, var(--jp-layout-color0, white)));\n",
       "  --sklearn-color-border-box: var(--sg-text-color, var(--theme-code-foreground, var(--jp-content-font-color1, black)));\n",
       "  --sklearn-color-icon: #696969;\n",
       "\n",
       "  @media (prefers-color-scheme: dark) {\n",
       "    /* Redefinition of color scheme for dark theme */\n",
       "    --sklearn-color-text-on-default-background: var(--sg-text-color, var(--theme-code-foreground, var(--jp-content-font-color1, white)));\n",
       "    --sklearn-color-background: var(--sg-background-color, var(--theme-background, var(--jp-layout-color0, #111)));\n",
       "    --sklearn-color-border-box: var(--sg-text-color, var(--theme-code-foreground, var(--jp-content-font-color1, white)));\n",
       "    --sklearn-color-icon: #878787;\n",
       "  }\n",
       "}\n",
       "\n",
       "#sk-container-id-1 {\n",
       "  color: var(--sklearn-color-text);\n",
       "}\n",
       "\n",
       "#sk-container-id-1 pre {\n",
       "  padding: 0;\n",
       "}\n",
       "\n",
       "#sk-container-id-1 input.sk-hidden--visually {\n",
       "  border: 0;\n",
       "  clip: rect(1px 1px 1px 1px);\n",
       "  clip: rect(1px, 1px, 1px, 1px);\n",
       "  height: 1px;\n",
       "  margin: -1px;\n",
       "  overflow: hidden;\n",
       "  padding: 0;\n",
       "  position: absolute;\n",
       "  width: 1px;\n",
       "}\n",
       "\n",
       "#sk-container-id-1 div.sk-dashed-wrapped {\n",
       "  border: 1px dashed var(--sklearn-color-line);\n",
       "  margin: 0 0.4em 0.5em 0.4em;\n",
       "  box-sizing: border-box;\n",
       "  padding-bottom: 0.4em;\n",
       "  background-color: var(--sklearn-color-background);\n",
       "}\n",
       "\n",
       "#sk-container-id-1 div.sk-container {\n",
       "  /* jupyter's `normalize.less` sets `[hidden] { display: none; }`\n",
       "     but bootstrap.min.css set `[hidden] { display: none !important; }`\n",
       "     so we also need the `!important` here to be able to override the\n",
       "     default hidden behavior on the sphinx rendered scikit-learn.org.\n",
       "     See: https://github.com/scikit-learn/scikit-learn/issues/21755 */\n",
       "  display: inline-block !important;\n",
       "  position: relative;\n",
       "}\n",
       "\n",
       "#sk-container-id-1 div.sk-text-repr-fallback {\n",
       "  display: none;\n",
       "}\n",
       "\n",
       "div.sk-parallel-item,\n",
       "div.sk-serial,\n",
       "div.sk-item {\n",
       "  /* draw centered vertical line to link estimators */\n",
       "  background-image: linear-gradient(var(--sklearn-color-text-on-default-background), var(--sklearn-color-text-on-default-background));\n",
       "  background-size: 2px 100%;\n",
       "  background-repeat: no-repeat;\n",
       "  background-position: center center;\n",
       "}\n",
       "\n",
       "/* Parallel-specific style estimator block */\n",
       "\n",
       "#sk-container-id-1 div.sk-parallel-item::after {\n",
       "  content: \"\";\n",
       "  width: 100%;\n",
       "  border-bottom: 2px solid var(--sklearn-color-text-on-default-background);\n",
       "  flex-grow: 1;\n",
       "}\n",
       "\n",
       "#sk-container-id-1 div.sk-parallel {\n",
       "  display: flex;\n",
       "  align-items: stretch;\n",
       "  justify-content: center;\n",
       "  background-color: var(--sklearn-color-background);\n",
       "  position: relative;\n",
       "}\n",
       "\n",
       "#sk-container-id-1 div.sk-parallel-item {\n",
       "  display: flex;\n",
       "  flex-direction: column;\n",
       "}\n",
       "\n",
       "#sk-container-id-1 div.sk-parallel-item:first-child::after {\n",
       "  align-self: flex-end;\n",
       "  width: 50%;\n",
       "}\n",
       "\n",
       "#sk-container-id-1 div.sk-parallel-item:last-child::after {\n",
       "  align-self: flex-start;\n",
       "  width: 50%;\n",
       "}\n",
       "\n",
       "#sk-container-id-1 div.sk-parallel-item:only-child::after {\n",
       "  width: 0;\n",
       "}\n",
       "\n",
       "/* Serial-specific style estimator block */\n",
       "\n",
       "#sk-container-id-1 div.sk-serial {\n",
       "  display: flex;\n",
       "  flex-direction: column;\n",
       "  align-items: center;\n",
       "  background-color: var(--sklearn-color-background);\n",
       "  padding-right: 1em;\n",
       "  padding-left: 1em;\n",
       "}\n",
       "\n",
       "\n",
       "/* Toggleable style: style used for estimator/Pipeline/ColumnTransformer box that is\n",
       "clickable and can be expanded/collapsed.\n",
       "- Pipeline and ColumnTransformer use this feature and define the default style\n",
       "- Estimators will overwrite some part of the style using the `sk-estimator` class\n",
       "*/\n",
       "\n",
       "/* Pipeline and ColumnTransformer style (default) */\n",
       "\n",
       "#sk-container-id-1 div.sk-toggleable {\n",
       "  /* Default theme specific background. It is overwritten whether we have a\n",
       "  specific estimator or a Pipeline/ColumnTransformer */\n",
       "  background-color: var(--sklearn-color-background);\n",
       "}\n",
       "\n",
       "/* Toggleable label */\n",
       "#sk-container-id-1 label.sk-toggleable__label {\n",
       "  cursor: pointer;\n",
       "  display: block;\n",
       "  width: 100%;\n",
       "  margin-bottom: 0;\n",
       "  padding: 0.5em;\n",
       "  box-sizing: border-box;\n",
       "  text-align: center;\n",
       "}\n",
       "\n",
       "#sk-container-id-1 label.sk-toggleable__label-arrow:before {\n",
       "  /* Arrow on the left of the label */\n",
       "  content: \"▸\";\n",
       "  float: left;\n",
       "  margin-right: 0.25em;\n",
       "  color: var(--sklearn-color-icon);\n",
       "}\n",
       "\n",
       "#sk-container-id-1 label.sk-toggleable__label-arrow:hover:before {\n",
       "  color: var(--sklearn-color-text);\n",
       "}\n",
       "\n",
       "/* Toggleable content - dropdown */\n",
       "\n",
       "#sk-container-id-1 div.sk-toggleable__content {\n",
       "  max-height: 0;\n",
       "  max-width: 0;\n",
       "  overflow: hidden;\n",
       "  text-align: left;\n",
       "  /* unfitted */\n",
       "  background-color: var(--sklearn-color-unfitted-level-0);\n",
       "}\n",
       "\n",
       "#sk-container-id-1 div.sk-toggleable__content.fitted {\n",
       "  /* fitted */\n",
       "  background-color: var(--sklearn-color-fitted-level-0);\n",
       "}\n",
       "\n",
       "#sk-container-id-1 div.sk-toggleable__content pre {\n",
       "  margin: 0.2em;\n",
       "  border-radius: 0.25em;\n",
       "  color: var(--sklearn-color-text);\n",
       "  /* unfitted */\n",
       "  background-color: var(--sklearn-color-unfitted-level-0);\n",
       "}\n",
       "\n",
       "#sk-container-id-1 div.sk-toggleable__content.fitted pre {\n",
       "  /* unfitted */\n",
       "  background-color: var(--sklearn-color-fitted-level-0);\n",
       "}\n",
       "\n",
       "#sk-container-id-1 input.sk-toggleable__control:checked~div.sk-toggleable__content {\n",
       "  /* Expand drop-down */\n",
       "  max-height: 200px;\n",
       "  max-width: 100%;\n",
       "  overflow: auto;\n",
       "}\n",
       "\n",
       "#sk-container-id-1 input.sk-toggleable__control:checked~label.sk-toggleable__label-arrow:before {\n",
       "  content: \"▾\";\n",
       "}\n",
       "\n",
       "/* Pipeline/ColumnTransformer-specific style */\n",
       "\n",
       "#sk-container-id-1 div.sk-label input.sk-toggleable__control:checked~label.sk-toggleable__label {\n",
       "  color: var(--sklearn-color-text);\n",
       "  background-color: var(--sklearn-color-unfitted-level-2);\n",
       "}\n",
       "\n",
       "#sk-container-id-1 div.sk-label.fitted input.sk-toggleable__control:checked~label.sk-toggleable__label {\n",
       "  background-color: var(--sklearn-color-fitted-level-2);\n",
       "}\n",
       "\n",
       "/* Estimator-specific style */\n",
       "\n",
       "/* Colorize estimator box */\n",
       "#sk-container-id-1 div.sk-estimator input.sk-toggleable__control:checked~label.sk-toggleable__label {\n",
       "  /* unfitted */\n",
       "  background-color: var(--sklearn-color-unfitted-level-2);\n",
       "}\n",
       "\n",
       "#sk-container-id-1 div.sk-estimator.fitted input.sk-toggleable__control:checked~label.sk-toggleable__label {\n",
       "  /* fitted */\n",
       "  background-color: var(--sklearn-color-fitted-level-2);\n",
       "}\n",
       "\n",
       "#sk-container-id-1 div.sk-label label.sk-toggleable__label,\n",
       "#sk-container-id-1 div.sk-label label {\n",
       "  /* The background is the default theme color */\n",
       "  color: var(--sklearn-color-text-on-default-background);\n",
       "}\n",
       "\n",
       "/* On hover, darken the color of the background */\n",
       "#sk-container-id-1 div.sk-label:hover label.sk-toggleable__label {\n",
       "  color: var(--sklearn-color-text);\n",
       "  background-color: var(--sklearn-color-unfitted-level-2);\n",
       "}\n",
       "\n",
       "/* Label box, darken color on hover, fitted */\n",
       "#sk-container-id-1 div.sk-label.fitted:hover label.sk-toggleable__label.fitted {\n",
       "  color: var(--sklearn-color-text);\n",
       "  background-color: var(--sklearn-color-fitted-level-2);\n",
       "}\n",
       "\n",
       "/* Estimator label */\n",
       "\n",
       "#sk-container-id-1 div.sk-label label {\n",
       "  font-family: monospace;\n",
       "  font-weight: bold;\n",
       "  display: inline-block;\n",
       "  line-height: 1.2em;\n",
       "}\n",
       "\n",
       "#sk-container-id-1 div.sk-label-container {\n",
       "  text-align: center;\n",
       "}\n",
       "\n",
       "/* Estimator-specific */\n",
       "#sk-container-id-1 div.sk-estimator {\n",
       "  font-family: monospace;\n",
       "  border: 1px dotted var(--sklearn-color-border-box);\n",
       "  border-radius: 0.25em;\n",
       "  box-sizing: border-box;\n",
       "  margin-bottom: 0.5em;\n",
       "  /* unfitted */\n",
       "  background-color: var(--sklearn-color-unfitted-level-0);\n",
       "}\n",
       "\n",
       "#sk-container-id-1 div.sk-estimator.fitted {\n",
       "  /* fitted */\n",
       "  background-color: var(--sklearn-color-fitted-level-0);\n",
       "}\n",
       "\n",
       "/* on hover */\n",
       "#sk-container-id-1 div.sk-estimator:hover {\n",
       "  /* unfitted */\n",
       "  background-color: var(--sklearn-color-unfitted-level-2);\n",
       "}\n",
       "\n",
       "#sk-container-id-1 div.sk-estimator.fitted:hover {\n",
       "  /* fitted */\n",
       "  background-color: var(--sklearn-color-fitted-level-2);\n",
       "}\n",
       "\n",
       "/* Specification for estimator info (e.g. \"i\" and \"?\") */\n",
       "\n",
       "/* Common style for \"i\" and \"?\" */\n",
       "\n",
       ".sk-estimator-doc-link,\n",
       "a:link.sk-estimator-doc-link,\n",
       "a:visited.sk-estimator-doc-link {\n",
       "  float: right;\n",
       "  font-size: smaller;\n",
       "  line-height: 1em;\n",
       "  font-family: monospace;\n",
       "  background-color: var(--sklearn-color-background);\n",
       "  border-radius: 1em;\n",
       "  height: 1em;\n",
       "  width: 1em;\n",
       "  text-decoration: none !important;\n",
       "  margin-left: 1ex;\n",
       "  /* unfitted */\n",
       "  border: var(--sklearn-color-unfitted-level-1) 1pt solid;\n",
       "  color: var(--sklearn-color-unfitted-level-1);\n",
       "}\n",
       "\n",
       ".sk-estimator-doc-link.fitted,\n",
       "a:link.sk-estimator-doc-link.fitted,\n",
       "a:visited.sk-estimator-doc-link.fitted {\n",
       "  /* fitted */\n",
       "  border: var(--sklearn-color-fitted-level-1) 1pt solid;\n",
       "  color: var(--sklearn-color-fitted-level-1);\n",
       "}\n",
       "\n",
       "/* On hover */\n",
       "div.sk-estimator:hover .sk-estimator-doc-link:hover,\n",
       ".sk-estimator-doc-link:hover,\n",
       "div.sk-label-container:hover .sk-estimator-doc-link:hover,\n",
       ".sk-estimator-doc-link:hover {\n",
       "  /* unfitted */\n",
       "  background-color: var(--sklearn-color-unfitted-level-3);\n",
       "  color: var(--sklearn-color-background);\n",
       "  text-decoration: none;\n",
       "}\n",
       "\n",
       "div.sk-estimator.fitted:hover .sk-estimator-doc-link.fitted:hover,\n",
       ".sk-estimator-doc-link.fitted:hover,\n",
       "div.sk-label-container:hover .sk-estimator-doc-link.fitted:hover,\n",
       ".sk-estimator-doc-link.fitted:hover {\n",
       "  /* fitted */\n",
       "  background-color: var(--sklearn-color-fitted-level-3);\n",
       "  color: var(--sklearn-color-background);\n",
       "  text-decoration: none;\n",
       "}\n",
       "\n",
       "/* Span, style for the box shown on hovering the info icon */\n",
       ".sk-estimator-doc-link span {\n",
       "  display: none;\n",
       "  z-index: 9999;\n",
       "  position: relative;\n",
       "  font-weight: normal;\n",
       "  right: .2ex;\n",
       "  padding: .5ex;\n",
       "  margin: .5ex;\n",
       "  width: min-content;\n",
       "  min-width: 20ex;\n",
       "  max-width: 50ex;\n",
       "  color: var(--sklearn-color-text);\n",
       "  box-shadow: 2pt 2pt 4pt #999;\n",
       "  /* unfitted */\n",
       "  background: var(--sklearn-color-unfitted-level-0);\n",
       "  border: .5pt solid var(--sklearn-color-unfitted-level-3);\n",
       "}\n",
       "\n",
       ".sk-estimator-doc-link.fitted span {\n",
       "  /* fitted */\n",
       "  background: var(--sklearn-color-fitted-level-0);\n",
       "  border: var(--sklearn-color-fitted-level-3);\n",
       "}\n",
       "\n",
       ".sk-estimator-doc-link:hover span {\n",
       "  display: block;\n",
       "}\n",
       "\n",
       "/* \"?\"-specific style due to the `<a>` HTML tag */\n",
       "\n",
       "#sk-container-id-1 a.estimator_doc_link {\n",
       "  float: right;\n",
       "  font-size: 1rem;\n",
       "  line-height: 1em;\n",
       "  font-family: monospace;\n",
       "  background-color: var(--sklearn-color-background);\n",
       "  border-radius: 1rem;\n",
       "  height: 1rem;\n",
       "  width: 1rem;\n",
       "  text-decoration: none;\n",
       "  /* unfitted */\n",
       "  color: var(--sklearn-color-unfitted-level-1);\n",
       "  border: var(--sklearn-color-unfitted-level-1) 1pt solid;\n",
       "}\n",
       "\n",
       "#sk-container-id-1 a.estimator_doc_link.fitted {\n",
       "  /* fitted */\n",
       "  border: var(--sklearn-color-fitted-level-1) 1pt solid;\n",
       "  color: var(--sklearn-color-fitted-level-1);\n",
       "}\n",
       "\n",
       "/* On hover */\n",
       "#sk-container-id-1 a.estimator_doc_link:hover {\n",
       "  /* unfitted */\n",
       "  background-color: var(--sklearn-color-unfitted-level-3);\n",
       "  color: var(--sklearn-color-background);\n",
       "  text-decoration: none;\n",
       "}\n",
       "\n",
       "#sk-container-id-1 a.estimator_doc_link.fitted:hover {\n",
       "  /* fitted */\n",
       "  background-color: var(--sklearn-color-fitted-level-3);\n",
       "}\n",
       "</style><div id=\"sk-container-id-1\" class=\"sk-top-container\"><div class=\"sk-text-repr-fallback\"><pre>LinearRegression()</pre><b>In a Jupyter environment, please rerun this cell to show the HTML representation or trust the notebook. <br />On GitHub, the HTML representation is unable to render, please try loading this page with nbviewer.org.</b></div><div class=\"sk-container\" hidden><div class=\"sk-item\"><div class=\"sk-estimator fitted sk-toggleable\"><input class=\"sk-toggleable__control sk-hidden--visually\" id=\"sk-estimator-id-1\" type=\"checkbox\" checked><label for=\"sk-estimator-id-1\" class=\"sk-toggleable__label fitted sk-toggleable__label-arrow fitted\">&nbsp;&nbsp;LinearRegression<a class=\"sk-estimator-doc-link fitted\" rel=\"noreferrer\" target=\"_blank\" href=\"https://scikit-learn.org/1.5/modules/generated/sklearn.linear_model.LinearRegression.html\">?<span>Documentation for LinearRegression</span></a><span class=\"sk-estimator-doc-link fitted\">i<span>Fitted</span></span></label><div class=\"sk-toggleable__content fitted\"><pre>LinearRegression()</pre></div> </div></div></div></div>"
      ],
      "text/plain": [
       "LinearRegression()"
      ]
     },
     "execution_count": 120,
     "metadata": {},
     "output_type": "execute_result"
    }
   ],
   "source": [
    "linear_model = LinearRegression()\n",
    "linear_model.fit(X_train, y_train)"
   ]
  },
  {
   "cell_type": "code",
   "execution_count": 121,
   "id": "95368c14-1c7d-495a-8297-fd478024b007",
   "metadata": {},
   "outputs": [
    {
     "data": {
      "text/html": [
       "<style>#sk-container-id-2 {\n",
       "  /* Definition of color scheme common for light and dark mode */\n",
       "  --sklearn-color-text: black;\n",
       "  --sklearn-color-line: gray;\n",
       "  /* Definition of color scheme for unfitted estimators */\n",
       "  --sklearn-color-unfitted-level-0: #fff5e6;\n",
       "  --sklearn-color-unfitted-level-1: #f6e4d2;\n",
       "  --sklearn-color-unfitted-level-2: #ffe0b3;\n",
       "  --sklearn-color-unfitted-level-3: chocolate;\n",
       "  /* Definition of color scheme for fitted estimators */\n",
       "  --sklearn-color-fitted-level-0: #f0f8ff;\n",
       "  --sklearn-color-fitted-level-1: #d4ebff;\n",
       "  --sklearn-color-fitted-level-2: #b3dbfd;\n",
       "  --sklearn-color-fitted-level-3: cornflowerblue;\n",
       "\n",
       "  /* Specific color for light theme */\n",
       "  --sklearn-color-text-on-default-background: var(--sg-text-color, var(--theme-code-foreground, var(--jp-content-font-color1, black)));\n",
       "  --sklearn-color-background: var(--sg-background-color, var(--theme-background, var(--jp-layout-color0, white)));\n",
       "  --sklearn-color-border-box: var(--sg-text-color, var(--theme-code-foreground, var(--jp-content-font-color1, black)));\n",
       "  --sklearn-color-icon: #696969;\n",
       "\n",
       "  @media (prefers-color-scheme: dark) {\n",
       "    /* Redefinition of color scheme for dark theme */\n",
       "    --sklearn-color-text-on-default-background: var(--sg-text-color, var(--theme-code-foreground, var(--jp-content-font-color1, white)));\n",
       "    --sklearn-color-background: var(--sg-background-color, var(--theme-background, var(--jp-layout-color0, #111)));\n",
       "    --sklearn-color-border-box: var(--sg-text-color, var(--theme-code-foreground, var(--jp-content-font-color1, white)));\n",
       "    --sklearn-color-icon: #878787;\n",
       "  }\n",
       "}\n",
       "\n",
       "#sk-container-id-2 {\n",
       "  color: var(--sklearn-color-text);\n",
       "}\n",
       "\n",
       "#sk-container-id-2 pre {\n",
       "  padding: 0;\n",
       "}\n",
       "\n",
       "#sk-container-id-2 input.sk-hidden--visually {\n",
       "  border: 0;\n",
       "  clip: rect(1px 1px 1px 1px);\n",
       "  clip: rect(1px, 1px, 1px, 1px);\n",
       "  height: 1px;\n",
       "  margin: -1px;\n",
       "  overflow: hidden;\n",
       "  padding: 0;\n",
       "  position: absolute;\n",
       "  width: 1px;\n",
       "}\n",
       "\n",
       "#sk-container-id-2 div.sk-dashed-wrapped {\n",
       "  border: 1px dashed var(--sklearn-color-line);\n",
       "  margin: 0 0.4em 0.5em 0.4em;\n",
       "  box-sizing: border-box;\n",
       "  padding-bottom: 0.4em;\n",
       "  background-color: var(--sklearn-color-background);\n",
       "}\n",
       "\n",
       "#sk-container-id-2 div.sk-container {\n",
       "  /* jupyter's `normalize.less` sets `[hidden] { display: none; }`\n",
       "     but bootstrap.min.css set `[hidden] { display: none !important; }`\n",
       "     so we also need the `!important` here to be able to override the\n",
       "     default hidden behavior on the sphinx rendered scikit-learn.org.\n",
       "     See: https://github.com/scikit-learn/scikit-learn/issues/21755 */\n",
       "  display: inline-block !important;\n",
       "  position: relative;\n",
       "}\n",
       "\n",
       "#sk-container-id-2 div.sk-text-repr-fallback {\n",
       "  display: none;\n",
       "}\n",
       "\n",
       "div.sk-parallel-item,\n",
       "div.sk-serial,\n",
       "div.sk-item {\n",
       "  /* draw centered vertical line to link estimators */\n",
       "  background-image: linear-gradient(var(--sklearn-color-text-on-default-background), var(--sklearn-color-text-on-default-background));\n",
       "  background-size: 2px 100%;\n",
       "  background-repeat: no-repeat;\n",
       "  background-position: center center;\n",
       "}\n",
       "\n",
       "/* Parallel-specific style estimator block */\n",
       "\n",
       "#sk-container-id-2 div.sk-parallel-item::after {\n",
       "  content: \"\";\n",
       "  width: 100%;\n",
       "  border-bottom: 2px solid var(--sklearn-color-text-on-default-background);\n",
       "  flex-grow: 1;\n",
       "}\n",
       "\n",
       "#sk-container-id-2 div.sk-parallel {\n",
       "  display: flex;\n",
       "  align-items: stretch;\n",
       "  justify-content: center;\n",
       "  background-color: var(--sklearn-color-background);\n",
       "  position: relative;\n",
       "}\n",
       "\n",
       "#sk-container-id-2 div.sk-parallel-item {\n",
       "  display: flex;\n",
       "  flex-direction: column;\n",
       "}\n",
       "\n",
       "#sk-container-id-2 div.sk-parallel-item:first-child::after {\n",
       "  align-self: flex-end;\n",
       "  width: 50%;\n",
       "}\n",
       "\n",
       "#sk-container-id-2 div.sk-parallel-item:last-child::after {\n",
       "  align-self: flex-start;\n",
       "  width: 50%;\n",
       "}\n",
       "\n",
       "#sk-container-id-2 div.sk-parallel-item:only-child::after {\n",
       "  width: 0;\n",
       "}\n",
       "\n",
       "/* Serial-specific style estimator block */\n",
       "\n",
       "#sk-container-id-2 div.sk-serial {\n",
       "  display: flex;\n",
       "  flex-direction: column;\n",
       "  align-items: center;\n",
       "  background-color: var(--sklearn-color-background);\n",
       "  padding-right: 1em;\n",
       "  padding-left: 1em;\n",
       "}\n",
       "\n",
       "\n",
       "/* Toggleable style: style used for estimator/Pipeline/ColumnTransformer box that is\n",
       "clickable and can be expanded/collapsed.\n",
       "- Pipeline and ColumnTransformer use this feature and define the default style\n",
       "- Estimators will overwrite some part of the style using the `sk-estimator` class\n",
       "*/\n",
       "\n",
       "/* Pipeline and ColumnTransformer style (default) */\n",
       "\n",
       "#sk-container-id-2 div.sk-toggleable {\n",
       "  /* Default theme specific background. It is overwritten whether we have a\n",
       "  specific estimator or a Pipeline/ColumnTransformer */\n",
       "  background-color: var(--sklearn-color-background);\n",
       "}\n",
       "\n",
       "/* Toggleable label */\n",
       "#sk-container-id-2 label.sk-toggleable__label {\n",
       "  cursor: pointer;\n",
       "  display: block;\n",
       "  width: 100%;\n",
       "  margin-bottom: 0;\n",
       "  padding: 0.5em;\n",
       "  box-sizing: border-box;\n",
       "  text-align: center;\n",
       "}\n",
       "\n",
       "#sk-container-id-2 label.sk-toggleable__label-arrow:before {\n",
       "  /* Arrow on the left of the label */\n",
       "  content: \"▸\";\n",
       "  float: left;\n",
       "  margin-right: 0.25em;\n",
       "  color: var(--sklearn-color-icon);\n",
       "}\n",
       "\n",
       "#sk-container-id-2 label.sk-toggleable__label-arrow:hover:before {\n",
       "  color: var(--sklearn-color-text);\n",
       "}\n",
       "\n",
       "/* Toggleable content - dropdown */\n",
       "\n",
       "#sk-container-id-2 div.sk-toggleable__content {\n",
       "  max-height: 0;\n",
       "  max-width: 0;\n",
       "  overflow: hidden;\n",
       "  text-align: left;\n",
       "  /* unfitted */\n",
       "  background-color: var(--sklearn-color-unfitted-level-0);\n",
       "}\n",
       "\n",
       "#sk-container-id-2 div.sk-toggleable__content.fitted {\n",
       "  /* fitted */\n",
       "  background-color: var(--sklearn-color-fitted-level-0);\n",
       "}\n",
       "\n",
       "#sk-container-id-2 div.sk-toggleable__content pre {\n",
       "  margin: 0.2em;\n",
       "  border-radius: 0.25em;\n",
       "  color: var(--sklearn-color-text);\n",
       "  /* unfitted */\n",
       "  background-color: var(--sklearn-color-unfitted-level-0);\n",
       "}\n",
       "\n",
       "#sk-container-id-2 div.sk-toggleable__content.fitted pre {\n",
       "  /* unfitted */\n",
       "  background-color: var(--sklearn-color-fitted-level-0);\n",
       "}\n",
       "\n",
       "#sk-container-id-2 input.sk-toggleable__control:checked~div.sk-toggleable__content {\n",
       "  /* Expand drop-down */\n",
       "  max-height: 200px;\n",
       "  max-width: 100%;\n",
       "  overflow: auto;\n",
       "}\n",
       "\n",
       "#sk-container-id-2 input.sk-toggleable__control:checked~label.sk-toggleable__label-arrow:before {\n",
       "  content: \"▾\";\n",
       "}\n",
       "\n",
       "/* Pipeline/ColumnTransformer-specific style */\n",
       "\n",
       "#sk-container-id-2 div.sk-label input.sk-toggleable__control:checked~label.sk-toggleable__label {\n",
       "  color: var(--sklearn-color-text);\n",
       "  background-color: var(--sklearn-color-unfitted-level-2);\n",
       "}\n",
       "\n",
       "#sk-container-id-2 div.sk-label.fitted input.sk-toggleable__control:checked~label.sk-toggleable__label {\n",
       "  background-color: var(--sklearn-color-fitted-level-2);\n",
       "}\n",
       "\n",
       "/* Estimator-specific style */\n",
       "\n",
       "/* Colorize estimator box */\n",
       "#sk-container-id-2 div.sk-estimator input.sk-toggleable__control:checked~label.sk-toggleable__label {\n",
       "  /* unfitted */\n",
       "  background-color: var(--sklearn-color-unfitted-level-2);\n",
       "}\n",
       "\n",
       "#sk-container-id-2 div.sk-estimator.fitted input.sk-toggleable__control:checked~label.sk-toggleable__label {\n",
       "  /* fitted */\n",
       "  background-color: var(--sklearn-color-fitted-level-2);\n",
       "}\n",
       "\n",
       "#sk-container-id-2 div.sk-label label.sk-toggleable__label,\n",
       "#sk-container-id-2 div.sk-label label {\n",
       "  /* The background is the default theme color */\n",
       "  color: var(--sklearn-color-text-on-default-background);\n",
       "}\n",
       "\n",
       "/* On hover, darken the color of the background */\n",
       "#sk-container-id-2 div.sk-label:hover label.sk-toggleable__label {\n",
       "  color: var(--sklearn-color-text);\n",
       "  background-color: var(--sklearn-color-unfitted-level-2);\n",
       "}\n",
       "\n",
       "/* Label box, darken color on hover, fitted */\n",
       "#sk-container-id-2 div.sk-label.fitted:hover label.sk-toggleable__label.fitted {\n",
       "  color: var(--sklearn-color-text);\n",
       "  background-color: var(--sklearn-color-fitted-level-2);\n",
       "}\n",
       "\n",
       "/* Estimator label */\n",
       "\n",
       "#sk-container-id-2 div.sk-label label {\n",
       "  font-family: monospace;\n",
       "  font-weight: bold;\n",
       "  display: inline-block;\n",
       "  line-height: 1.2em;\n",
       "}\n",
       "\n",
       "#sk-container-id-2 div.sk-label-container {\n",
       "  text-align: center;\n",
       "}\n",
       "\n",
       "/* Estimator-specific */\n",
       "#sk-container-id-2 div.sk-estimator {\n",
       "  font-family: monospace;\n",
       "  border: 1px dotted var(--sklearn-color-border-box);\n",
       "  border-radius: 0.25em;\n",
       "  box-sizing: border-box;\n",
       "  margin-bottom: 0.5em;\n",
       "  /* unfitted */\n",
       "  background-color: var(--sklearn-color-unfitted-level-0);\n",
       "}\n",
       "\n",
       "#sk-container-id-2 div.sk-estimator.fitted {\n",
       "  /* fitted */\n",
       "  background-color: var(--sklearn-color-fitted-level-0);\n",
       "}\n",
       "\n",
       "/* on hover */\n",
       "#sk-container-id-2 div.sk-estimator:hover {\n",
       "  /* unfitted */\n",
       "  background-color: var(--sklearn-color-unfitted-level-2);\n",
       "}\n",
       "\n",
       "#sk-container-id-2 div.sk-estimator.fitted:hover {\n",
       "  /* fitted */\n",
       "  background-color: var(--sklearn-color-fitted-level-2);\n",
       "}\n",
       "\n",
       "/* Specification for estimator info (e.g. \"i\" and \"?\") */\n",
       "\n",
       "/* Common style for \"i\" and \"?\" */\n",
       "\n",
       ".sk-estimator-doc-link,\n",
       "a:link.sk-estimator-doc-link,\n",
       "a:visited.sk-estimator-doc-link {\n",
       "  float: right;\n",
       "  font-size: smaller;\n",
       "  line-height: 1em;\n",
       "  font-family: monospace;\n",
       "  background-color: var(--sklearn-color-background);\n",
       "  border-radius: 1em;\n",
       "  height: 1em;\n",
       "  width: 1em;\n",
       "  text-decoration: none !important;\n",
       "  margin-left: 1ex;\n",
       "  /* unfitted */\n",
       "  border: var(--sklearn-color-unfitted-level-1) 1pt solid;\n",
       "  color: var(--sklearn-color-unfitted-level-1);\n",
       "}\n",
       "\n",
       ".sk-estimator-doc-link.fitted,\n",
       "a:link.sk-estimator-doc-link.fitted,\n",
       "a:visited.sk-estimator-doc-link.fitted {\n",
       "  /* fitted */\n",
       "  border: var(--sklearn-color-fitted-level-1) 1pt solid;\n",
       "  color: var(--sklearn-color-fitted-level-1);\n",
       "}\n",
       "\n",
       "/* On hover */\n",
       "div.sk-estimator:hover .sk-estimator-doc-link:hover,\n",
       ".sk-estimator-doc-link:hover,\n",
       "div.sk-label-container:hover .sk-estimator-doc-link:hover,\n",
       ".sk-estimator-doc-link:hover {\n",
       "  /* unfitted */\n",
       "  background-color: var(--sklearn-color-unfitted-level-3);\n",
       "  color: var(--sklearn-color-background);\n",
       "  text-decoration: none;\n",
       "}\n",
       "\n",
       "div.sk-estimator.fitted:hover .sk-estimator-doc-link.fitted:hover,\n",
       ".sk-estimator-doc-link.fitted:hover,\n",
       "div.sk-label-container:hover .sk-estimator-doc-link.fitted:hover,\n",
       ".sk-estimator-doc-link.fitted:hover {\n",
       "  /* fitted */\n",
       "  background-color: var(--sklearn-color-fitted-level-3);\n",
       "  color: var(--sklearn-color-background);\n",
       "  text-decoration: none;\n",
       "}\n",
       "\n",
       "/* Span, style for the box shown on hovering the info icon */\n",
       ".sk-estimator-doc-link span {\n",
       "  display: none;\n",
       "  z-index: 9999;\n",
       "  position: relative;\n",
       "  font-weight: normal;\n",
       "  right: .2ex;\n",
       "  padding: .5ex;\n",
       "  margin: .5ex;\n",
       "  width: min-content;\n",
       "  min-width: 20ex;\n",
       "  max-width: 50ex;\n",
       "  color: var(--sklearn-color-text);\n",
       "  box-shadow: 2pt 2pt 4pt #999;\n",
       "  /* unfitted */\n",
       "  background: var(--sklearn-color-unfitted-level-0);\n",
       "  border: .5pt solid var(--sklearn-color-unfitted-level-3);\n",
       "}\n",
       "\n",
       ".sk-estimator-doc-link.fitted span {\n",
       "  /* fitted */\n",
       "  background: var(--sklearn-color-fitted-level-0);\n",
       "  border: var(--sklearn-color-fitted-level-3);\n",
       "}\n",
       "\n",
       ".sk-estimator-doc-link:hover span {\n",
       "  display: block;\n",
       "}\n",
       "\n",
       "/* \"?\"-specific style due to the `<a>` HTML tag */\n",
       "\n",
       "#sk-container-id-2 a.estimator_doc_link {\n",
       "  float: right;\n",
       "  font-size: 1rem;\n",
       "  line-height: 1em;\n",
       "  font-family: monospace;\n",
       "  background-color: var(--sklearn-color-background);\n",
       "  border-radius: 1rem;\n",
       "  height: 1rem;\n",
       "  width: 1rem;\n",
       "  text-decoration: none;\n",
       "  /* unfitted */\n",
       "  color: var(--sklearn-color-unfitted-level-1);\n",
       "  border: var(--sklearn-color-unfitted-level-1) 1pt solid;\n",
       "}\n",
       "\n",
       "#sk-container-id-2 a.estimator_doc_link.fitted {\n",
       "  /* fitted */\n",
       "  border: var(--sklearn-color-fitted-level-1) 1pt solid;\n",
       "  color: var(--sklearn-color-fitted-level-1);\n",
       "}\n",
       "\n",
       "/* On hover */\n",
       "#sk-container-id-2 a.estimator_doc_link:hover {\n",
       "  /* unfitted */\n",
       "  background-color: var(--sklearn-color-unfitted-level-3);\n",
       "  color: var(--sklearn-color-background);\n",
       "  text-decoration: none;\n",
       "}\n",
       "\n",
       "#sk-container-id-2 a.estimator_doc_link.fitted:hover {\n",
       "  /* fitted */\n",
       "  background-color: var(--sklearn-color-fitted-level-3);\n",
       "}\n",
       "</style><div id=\"sk-container-id-2\" class=\"sk-top-container\"><div class=\"sk-text-repr-fallback\"><pre>DecisionTreeRegressor(random_state=42)</pre><b>In a Jupyter environment, please rerun this cell to show the HTML representation or trust the notebook. <br />On GitHub, the HTML representation is unable to render, please try loading this page with nbviewer.org.</b></div><div class=\"sk-container\" hidden><div class=\"sk-item\"><div class=\"sk-estimator fitted sk-toggleable\"><input class=\"sk-toggleable__control sk-hidden--visually\" id=\"sk-estimator-id-2\" type=\"checkbox\" checked><label for=\"sk-estimator-id-2\" class=\"sk-toggleable__label fitted sk-toggleable__label-arrow fitted\">&nbsp;&nbsp;DecisionTreeRegressor<a class=\"sk-estimator-doc-link fitted\" rel=\"noreferrer\" target=\"_blank\" href=\"https://scikit-learn.org/1.5/modules/generated/sklearn.tree.DecisionTreeRegressor.html\">?<span>Documentation for DecisionTreeRegressor</span></a><span class=\"sk-estimator-doc-link fitted\">i<span>Fitted</span></span></label><div class=\"sk-toggleable__content fitted\"><pre>DecisionTreeRegressor(random_state=42)</pre></div> </div></div></div></div>"
      ],
      "text/plain": [
       "DecisionTreeRegressor(random_state=42)"
      ]
     },
     "execution_count": 121,
     "metadata": {},
     "output_type": "execute_result"
    }
   ],
   "source": [
    "tree_model = DecisionTreeRegressor(random_state=42)\n",
    "tree_model.fit(X_train, y_train)"
   ]
  },
  {
   "cell_type": "code",
   "execution_count": 122,
   "id": "955f2977-2013-4bbe-a612-591aa5acb78e",
   "metadata": {},
   "outputs": [],
   "source": [
    "rf_model = RandomForestRegressor(random_state=42)"
   ]
  },
  {
   "cell_type": "code",
   "execution_count": null,
   "id": "36af79af-45b0-4f79-bd3d-0bbbef6f341d",
   "metadata": {
    "scrolled": true
   },
   "outputs": [],
   "source": [
    "rf_model.fit(X_train, y_train)"
   ]
  },
  {
   "cell_type": "code",
   "execution_count": null,
   "id": "7cd62a09-59d6-4c49-8f88-922a8a5e6f15",
   "metadata": {},
   "outputs": [],
   "source": [
    "xgb_model = XGBRegressor(random_state=42)\n",
    "xgb_model.fit(X_train, y_train)"
   ]
  },
  {
   "cell_type": "markdown",
   "id": "26fc84b9-3efa-4cf2-90d5-f7855daa7183",
   "metadata": {},
   "source": [
    "### Step 4: Evaluate Model Performance"
   ]
  },
  {
   "cell_type": "code",
   "execution_count": 122,
   "id": "b1ffca8e-e69d-439b-ad4d-e6241941e164",
   "metadata": {},
   "outputs": [],
   "source": [
    "y_pred_linear = linear_model.predict(X_test)\n",
    "y_pred_tree = tree_model.predict(X_test)\n",
    "y_pred_rf = rf_model.predict(X_test)\n",
    "y_pred_xgb = xgb_model.predict(X_test)"
   ]
  },
  {
   "cell_type": "code",
   "execution_count": 123,
   "id": "b09a763c-e56e-438c-940d-316610029d0d",
   "metadata": {},
   "outputs": [],
   "source": [
    "def evaluate_model(y_test, y_pred, model_name):\n",
    "    print(f\"Performance of {model_name}:\")\n",
    "    print(\"MAE:\", mean_absolute_error(y_test, y_pred))\n",
    "    print(\"MSE:\", mean_squared_error(y_test, y_pred))\n",
    "    print(\"R²:\", r2_score(y_test, y_pred))\n",
    "    print(\"\\n\")"
   ]
  },
  {
   "cell_type": "markdown",
   "id": "8341de59-5e19-4706-bebc-026aa2aea488",
   "metadata": {},
   "source": [
    "### Step 5: Tune Hyperparameters"
   ]
  },
  {
   "cell_type": "code",
   "execution_count": 124,
   "id": "bdb3eec6-6908-4c36-b38f-ac4f62277c94",
   "metadata": {},
   "outputs": [
    {
     "name": "stdout",
     "output_type": "stream",
     "text": [
      "Performance of Linear Regression:\n",
      "MAE: 523.8283096208969\n",
      "MSE: 1197592.560253106\n",
      "R²: 0.006108864971064665\n",
      "\n",
      "\n",
      "Performance of Decision Tree:\n",
      "MAE: 520.7152324323714\n",
      "MSE: 1209179.1779187717\n",
      "R²: -0.0035069567742216368\n",
      "\n",
      "\n",
      "Performance of Random Forest:\n",
      "MAE: 520.8132131137963\n",
      "MSE: 1208684.7086935465\n",
      "R²: -0.0030965930196302782\n",
      "\n",
      "\n",
      "Performance of XGBoost:\n",
      "MAE: 520.2613565966425\n",
      "MSE: 1205053.2481077334\n",
      "R²: -8.285045623779297e-05\n",
      "\n",
      "\n"
     ]
    }
   ],
   "source": [
    "evaluate_model(y_test, y_pred_linear, \"Linear Regression\")\n",
    "evaluate_model(y_test, y_pred_tree, \"Decision Tree\")\n",
    "evaluate_model(y_test, y_pred_rf, \"Random Forest\")\n",
    "evaluate_model(y_test, y_pred_xgb, \"XGBoost\")"
   ]
  },
  {
   "cell_type": "code",
   "execution_count": 125,
   "id": "65bbdadd-3417-40aa-ac3f-13b07a511e88",
   "metadata": {},
   "outputs": [],
   "source": [
    "from sklearn.model_selection import GridSearchCV"
   ]
  },
  {
   "cell_type": "code",
   "execution_count": 126,
   "id": "5fc3df6e-eac2-4e4a-a4b5-46755d918bc7",
   "metadata": {},
   "outputs": [],
   "source": [
    "param_grid = {\n",
    "    'n_estimators': [100, 200, 300],\n",
    "    'max_depth': [10, 20, 30],\n",
    "    'min_samples_split': [2, 5, 10]\n",
    "}"
   ]
  },
  {
   "cell_type": "code",
   "execution_count": null,
   "id": "aa254606-5f2d-4a08-96ee-44a96a93e6cb",
   "metadata": {},
   "outputs": [],
   "source": [
    "rf_grid = GridSearchCV(RandomForestRegressor(random_state=42), param_grid, cv=3, scoring='neg_mean_squared_error')"
   ]
  },
  {
   "cell_type": "code",
   "execution_count": null,
   "id": "b9d33dc4-3796-4ca2-9ff5-c429f2df4400",
   "metadata": {},
   "outputs": [],
   "source": [
    "rf_grid.fit(X_train, y_train)"
   ]
  },
  {
   "cell_type": "code",
   "execution_count": null,
   "id": "93175ca9-a0ad-4e23-9843-32b432efafc1",
   "metadata": {},
   "outputs": [],
   "source": [
    "print(\"Best Parameters:\", rf_grid.best_params_)\n",
    "best_rf_model = rf_grid.best_estimator_"
   ]
  },
  {
   "cell_type": "code",
   "execution_count": null,
   "id": "2165b6e7-5ec5-4903-bde2-5b391e004384",
   "metadata": {},
   "outputs": [],
   "source": [
    "param_grid = {\n",
    "    'n_estimators': [100, 200],\n",
    "    'max_depth': [3, 6, 9],\n",
    "    'learning_rate': [0.01, 0.1, 0.2]\n",
    "}"
   ]
  },
  {
   "cell_type": "code",
   "execution_count": null,
   "id": "fe8bdc5d-9eed-4b76-aa0c-6025d47b49b3",
   "metadata": {},
   "outputs": [],
   "source": [
    "xgb_grid = GridSearchCV(XGBRegressor(random_state=42), param_grid, cv=3, scoring='neg_mean_squared_error')"
   ]
  },
  {
   "cell_type": "code",
   "execution_count": null,
   "id": "ac9d08b5-c51f-4e2a-a842-36a467cb07d5",
   "metadata": {},
   "outputs": [],
   "source": [
    "xgb_grid.fit(X_train, y_train)"
   ]
  },
  {
   "cell_type": "code",
   "execution_count": null,
   "id": "e71491b5-6f85-41c1-a0d6-8c16b3768b79",
   "metadata": {},
   "outputs": [],
   "source": [
    "print(\"Best Parameters:\", xgb_grid.best_params_)\n",
    "best_xgb_model = xgb_grid.best_estimator_"
   ]
  },
  {
   "cell_type": "code",
   "execution_count": null,
   "id": "979bc4fb-97ab-4b4b-9319-15b450ae90ac",
   "metadata": {},
   "outputs": [],
   "source": []
  }
 ],
 "metadata": {
  "kernelspec": {
   "display_name": "Python 3 (ipykernel)",
   "language": "python",
   "name": "python3"
  },
  "language_info": {
   "codemirror_mode": {
    "name": "ipython",
    "version": 3
   },
   "file_extension": ".py",
   "mimetype": "text/x-python",
   "name": "python",
   "nbconvert_exporter": "python",
   "pygments_lexer": "ipython3",
   "version": "3.12.6"
  }
 },
 "nbformat": 4,
 "nbformat_minor": 5
}
